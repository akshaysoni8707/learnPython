{
 "cells": [
  {
   "cell_type": "code",
   "execution_count": 1,
   "metadata": {},
   "outputs": [
    {
     "name": "stdout",
     "output_type": "stream",
     "text": [
      "Hello World\n"
     ]
    }
   ],
   "source": [
    "print('Hello World')"
   ]
  },
  {
   "cell_type": "markdown",
   "metadata": {},
   "source": [
    "**Variables**"
   ]
  },
  {
   "cell_type": "code",
   "execution_count": 2,
   "metadata": {},
   "outputs": [
    {
     "name": "stdout",
     "output_type": "stream",
     "text": [
      "10\n",
      "\n"
     ]
    }
   ],
   "source": [
    "a = 10\n",
    "b = 10\n",
    "c = 20\n",
    "print(a)\n",
    "print()"
   ]
  },
  {
   "cell_type": "code",
   "execution_count": 4,
   "metadata": {},
   "outputs": [
    {
     "name": "stdout",
     "output_type": "stream",
     "text": [
      "10 <class 'int'> 140713159857248\n",
      "10 <class 'int'> 140713159857248\n",
      "20 <class 'int'> 140713159857568\n"
     ]
    }
   ],
   "source": [
    "print(a,type(a),id(a))\n",
    "print(b,type(b),id(b))\n",
    "print(c,type(c),id(c))"
   ]
  },
  {
   "cell_type": "code",
   "execution_count": 5,
   "metadata": {},
   "outputs": [
    {
     "name": "stdout",
     "output_type": "stream",
     "text": [
      "10 <class 'int'>\n",
      "2.5 <class 'float'>\n",
      "Akshay <class 'str'>\n",
      "Akki <class 'str'>\n",
      "True <class 'bool'>\n",
      "[10, 'Akki', 2.35] <class 'list'>\n",
      "(10, 2.3) <class 'tuple'>\n",
      "{'a': 101, 'b': 102} <class 'dict'>\n"
     ]
    }
   ],
   "source": [
    "\"\"\"\n",
    "This is a documentation comment\n",
    "\"\"\"\n",
    "# This is an inline comment\n",
    "a = 10\n",
    "print(a,type(a))\n",
    "a = 2.5\n",
    "print(a,type(a))\n",
    "a = \"Akshay\"\n",
    "print(a,type(a))\n",
    "a = 'Akki'\n",
    "print(a,type(a))\n",
    "a = True\n",
    "print(a,type(a))\n",
    "a = [10,'Akki',2.35]\n",
    "print(a,type(a))\n",
    "a = (10,2.3)\n",
    "print(a,type(a))\n",
    "a = {\"a\":101,\"b\":102}\n",
    "print(a,type(a))"
   ]
  },
  {
   "cell_type": "code",
   "execution_count": 6,
   "metadata": {},
   "outputs": [
    {
     "ename": "SyntaxError",
     "evalue": "invalid syntax (<ipython-input-6-1a9bb92cc795>, line 1)",
     "output_type": "error",
     "traceback": [
      "\u001b[1;36m  File \u001b[1;32m\"<ipython-input-6-1a9bb92cc795>\"\u001b[1;36m, line \u001b[1;32m1\u001b[0m\n\u001b[1;33m    if = 5\u001b[0m\n\u001b[1;37m       ^\u001b[0m\n\u001b[1;31mSyntaxError\u001b[0m\u001b[1;31m:\u001b[0m invalid syntax\n"
     ]
    }
   ],
   "source": [
    "if = 5"
   ]
  },
  {
   "cell_type": "code",
   "execution_count": 7,
   "metadata": {},
   "outputs": [
    {
     "name": "stdout",
     "output_type": "stream",
     "text": [
      "10.2 <class 'float'>\n",
      "25 <class 'int'>\n"
     ]
    }
   ],
   "source": [
    "_a = 10.2\n",
    "print(_a,type(_a))\n",
    "age = 25\n",
    "print(age,type(age))"
   ]
  },
  {
   "cell_type": "code",
   "execution_count": 8,
   "metadata": {},
   "outputs": [
    {
     "name": "stdout",
     "output_type": "stream",
     "text": [
      "10 <class 'int'>\n",
      "Akki <class 'str'>\n",
      "3.56 <class 'float'>\n"
     ]
    }
   ],
   "source": [
    "a1,b1,c1 = 10,'Akki',3.56\n",
    "print(a1,type(a1))\n",
    "print(b1,type(b1))\n",
    "print(c1,type(c1))"
   ]
  },
  {
   "cell_type": "code",
   "execution_count": null,
   "metadata": {},
   "outputs": [],
   "source": []
  }
 ],
 "metadata": {
  "kernelspec": {
   "display_name": "Python 3",
   "language": "python",
   "name": "python3"
  },
  "language_info": {
   "codemirror_mode": {
    "name": "ipython",
    "version": 3
   },
   "file_extension": ".py",
   "mimetype": "text/x-python",
   "name": "python",
   "nbconvert_exporter": "python",
   "pygments_lexer": "ipython3",
   "version": "3.7.3"
  }
 },
 "nbformat": 4,
 "nbformat_minor": 4
}
