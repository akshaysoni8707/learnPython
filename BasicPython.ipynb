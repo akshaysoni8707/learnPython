{
 "cells": [
  {
   "cell_type": "code",
   "execution_count": 1,
   "metadata": {},
   "outputs": [
    {
     "name": "stdout",
     "output_type": "stream",
     "text": [
      "Hello World\n"
     ]
    }
   ],
   "source": [
    "print('Hello World')"
   ]
  },
  {
   "cell_type": "markdown",
   "metadata": {},
   "source": [
    "**Variables**"
   ]
  },
  {
   "cell_type": "code",
   "execution_count": 2,
   "metadata": {},
   "outputs": [
    {
     "name": "stdout",
     "output_type": "stream",
     "text": [
      "10\n",
      "\n"
     ]
    }
   ],
   "source": [
    "a = 10\n",
    "b = 10\n",
    "c = 20\n",
    "print(a)\n",
    "print()"
   ]
  },
  {
   "cell_type": "code",
   "execution_count": 4,
   "metadata": {},
   "outputs": [
    {
     "name": "stdout",
     "output_type": "stream",
     "text": [
      "10 <class 'int'> 140713159857248\n",
      "10 <class 'int'> 140713159857248\n",
      "20 <class 'int'> 140713159857568\n"
     ]
    }
   ],
   "source": [
    "print(a,type(a),id(a))\n",
    "print(b,type(b),id(b))\n",
    "print(c,type(c),id(c))"
   ]
  },
  {
   "cell_type": "code",
   "execution_count": 5,
   "metadata": {},
   "outputs": [
    {
     "name": "stdout",
     "output_type": "stream",
     "text": [
      "10 <class 'int'>\n",
      "2.5 <class 'float'>\n",
      "Akshay <class 'str'>\n",
      "Akki <class 'str'>\n",
      "True <class 'bool'>\n",
      "[10, 'Akki', 2.35] <class 'list'>\n",
      "(10, 2.3) <class 'tuple'>\n",
      "{'a': 101, 'b': 102} <class 'dict'>\n"
     ]
    }
   ],
   "source": [
    "\"\"\"\n",
    "This is a documentation comment\n",
    "\"\"\"\n",
    "# This is an inline comment\n",
    "a = 10\n",
    "print(a,type(a))\n",
    "a = 2.5\n",
    "print(a,type(a))\n",
    "a = \"Akshay\"\n",
    "print(a,type(a))\n",
    "a = 'Akki'\n",
    "print(a,type(a))\n",
    "a = True\n",
    "print(a,type(a))\n",
    "a = [10,'Akki',2.35]\n",
    "print(a,type(a))\n",
    "a = (10,2.3)\n",
    "print(a,type(a))\n",
    "a = {\"a\":101,\"b\":102}\n",
    "print(a,type(a))"
   ]
  },
  {
   "cell_type": "code",
   "execution_count": 6,
   "metadata": {},
   "outputs": [
    {
     "ename": "SyntaxError",
     "evalue": "invalid syntax (<ipython-input-6-1a9bb92cc795>, line 1)",
     "output_type": "error",
     "traceback": [
      "\u001b[1;36m  File \u001b[1;32m\"<ipython-input-6-1a9bb92cc795>\"\u001b[1;36m, line \u001b[1;32m1\u001b[0m\n\u001b[1;33m    if = 5\u001b[0m\n\u001b[1;37m       ^\u001b[0m\n\u001b[1;31mSyntaxError\u001b[0m\u001b[1;31m:\u001b[0m invalid syntax\n"
     ]
    }
   ],
   "source": [
    "if = 5"
   ]
  },
  {
   "cell_type": "code",
   "execution_count": 7,
   "metadata": {},
   "outputs": [
    {
     "name": "stdout",
     "output_type": "stream",
     "text": [
      "10.2 <class 'float'>\n",
      "25 <class 'int'>\n"
     ]
    }
   ],
   "source": [
    "_a = 10.2\n",
    "print(_a,type(_a))\n",
    "age = 25\n",
    "print(age,type(age))"
   ]
  },
  {
   "cell_type": "code",
   "execution_count": 8,
   "metadata": {},
   "outputs": [
    {
     "name": "stdout",
     "output_type": "stream",
     "text": [
      "10 <class 'int'>\n",
      "Akki <class 'str'>\n",
      "3.56 <class 'float'>\n"
     ]
    }
   ],
   "source": [
    "a1,b1,c1 = 10,'Akki',3.56\n",
    "print(a1,type(a1))\n",
    "print(b1,type(b1))\n",
    "print(c1,type(c1))"
   ]
  },
  {
   "cell_type": "code",
   "execution_count": 1,
   "metadata": {},
   "outputs": [
    {
     "name": "stdout",
     "output_type": "stream",
     "text": [
      "a =  20  b =  10\n"
     ]
    }
   ],
   "source": [
    "a = 10\n",
    "b = 20\n",
    "\n",
    "a,b = b,a\n",
    "print(\"a = \",a,\" b = \",b)"
   ]
  },
  {
   "cell_type": "code",
   "execution_count": 2,
   "metadata": {},
   "outputs": [
    {
     "name": "stdin",
     "output_type": "stream",
     "text": [
      "Enter a name Akshay\n"
     ]
    },
    {
     "name": "stdout",
     "output_type": "stream",
     "text": [
      "Akshay <class 'str'>\n"
     ]
    }
   ],
   "source": [
    "a = input(\"Enter a name\")\n",
    "print(a,type(a))"
   ]
  },
  {
   "cell_type": "code",
   "execution_count": 3,
   "metadata": {},
   "outputs": [
    {
     "name": "stdin",
     "output_type": "stream",
     "text": [
      "Enter your age :  25\n"
     ]
    },
    {
     "name": "stdout",
     "output_type": "stream",
     "text": [
      "25 <class 'int'>\n"
     ]
    },
    {
     "name": "stdin",
     "output_type": "stream",
     "text": [
      "Enter your salary :  12345.66\n"
     ]
    },
    {
     "name": "stdout",
     "output_type": "stream",
     "text": [
      "12345.66 <class 'float'>\n"
     ]
    }
   ],
   "source": [
    "b = int(input(\"Enter your age : \"))\n",
    "print(b,type(b))\n",
    "salary = float(input(\"Enter your salary : \"))\n",
    "print(salary,type(salary))"
   ]
  },
  {
   "cell_type": "code",
   "execution_count": 4,
   "metadata": {},
   "outputs": [
    {
     "name": "stdin",
     "output_type": "stream",
     "text": [
      "Enter a number :  akshay\n"
     ]
    },
    {
     "ename": "ValueError",
     "evalue": "invalid literal for int() with base 10: 'akshay'",
     "output_type": "error",
     "traceback": [
      "\u001b[1;31m---------------------------------------------------------------------------\u001b[0m",
      "\u001b[1;31mValueError\u001b[0m                                Traceback (most recent call last)",
      "\u001b[1;32m<ipython-input-4-6944deac902d>\u001b[0m in \u001b[0;36m<module>\u001b[1;34m\u001b[0m\n\u001b[1;32m----> 1\u001b[1;33m \u001b[0mc\u001b[0m \u001b[1;33m=\u001b[0m \u001b[0mint\u001b[0m\u001b[1;33m(\u001b[0m\u001b[0minput\u001b[0m\u001b[1;33m(\u001b[0m\u001b[1;34m\"Enter a number : \"\u001b[0m\u001b[1;33m)\u001b[0m\u001b[1;33m)\u001b[0m\u001b[1;33m\u001b[0m\u001b[1;33m\u001b[0m\u001b[0m\n\u001b[0m\u001b[0;32m      2\u001b[0m \u001b[0mprint\u001b[0m\u001b[1;33m(\u001b[0m\u001b[0mc\u001b[0m\u001b[1;33m,\u001b[0m\u001b[0mtype\u001b[0m\u001b[1;33m(\u001b[0m\u001b[0mc\u001b[0m\u001b[1;33m)\u001b[0m\u001b[1;33m)\u001b[0m\u001b[1;33m\u001b[0m\u001b[1;33m\u001b[0m\u001b[0m\n",
      "\u001b[1;31mValueError\u001b[0m: invalid literal for int() with base 10: 'akshay'"
     ]
    }
   ],
   "source": [
    "c = int(input(\"Enter a number : \"))\n",
    "print(c,type(c))"
   ]
  },
  {
   "cell_type": "code",
   "execution_count": 12,
   "metadata": {},
   "outputs": [
    {
     "name": "stdin",
     "output_type": "stream",
     "text": [
      "true or false :  0\n"
     ]
    },
    {
     "name": "stdout",
     "output_type": "stream",
     "text": [
      "False <class 'bool'>\n"
     ]
    }
   ],
   "source": [
    "d = bool(int(input(\"true or false : \")))\n",
    "print(d,type(d))"
   ]
  },
  {
   "cell_type": "code",
   "execution_count": 10,
   "metadata": {},
   "outputs": [
    {
     "name": "stdout",
     "output_type": "stream",
     "text": [
      "30\n",
      "10\n"
     ]
    }
   ],
   "source": [
    "a,b,c = 10,30,20\n",
    "print(max(a,b,c))\n",
    "print(min(a,b,c))"
   ]
  },
  {
   "cell_type": "code",
   "execution_count": 15,
   "metadata": {},
   "outputs": [
    {
     "name": "stdout",
     "output_type": "stream",
     "text": [
      "data :  345.23 /-\n",
      "data :  53215.24 /-\n"
     ]
    }
   ],
   "source": [
    "print(\"data : \",345.23,\"/-\")\n",
    "print(\"data : \",53215.24,\"/-\")"
   ]
  },
  {
   "cell_type": "code",
   "execution_count": 17,
   "metadata": {},
   "outputs": [
    {
     "name": "stdout",
     "output_type": "stream",
     "text": [
      "data :      345.23 /-\n",
      "data :    53215.24 /-\n"
     ]
    }
   ],
   "source": [
    "print(\"data : \",format(345.23,\"10.2f\"),\"/-\")\n",
    "print(\"data : \",format(53215.24,\"10.2f\"),\"/-\")"
   ]
  },
  {
   "cell_type": "code",
   "execution_count": 18,
   "metadata": {},
   "outputs": [
    {
     "name": "stdout",
     "output_type": "stream",
     "text": [
      "  123\n",
      "123\n"
     ]
    }
   ],
   "source": [
    "print(format(123,\"5d\"))\n",
    "print(format(123))"
   ]
  },
  {
   "cell_type": "code",
   "execution_count": 25,
   "metadata": {},
   "outputs": [
    {
     "name": "stdout",
     "output_type": "stream",
     "text": [
      "4,523,456,789.56\n"
     ]
    }
   ],
   "source": [
    "print(format(4523456789.5573,\",.2f\"))"
   ]
  },
  {
   "cell_type": "code",
   "execution_count": 29,
   "metadata": {},
   "outputs": [
    {
     "name": "stdout",
     "output_type": "stream",
     "text": [
      "21.34      Rupees\n",
      "123.45     Rupees\n"
     ]
    }
   ],
   "source": [
    "print(format(21.34,\"<10.2f\"),\"Rupees\")\n",
    "print(format(123.45,\"<10.2f\"),\"Rupees\")"
   ]
  },
  {
   "cell_type": "markdown",
   "metadata": {},
   "source": [
    "**Operators**"
   ]
  },
  {
   "cell_type": "code",
   "execution_count": 6,
   "metadata": {},
   "outputs": [
    {
     "name": "stdout",
     "output_type": "stream",
     "text": [
      "a + b  13\n",
      "a - b  7\n",
      "a * b  30\n",
      "a / b  3.3333333333333335\n",
      "a % b  1\n",
      "power 9\n",
      "Floor division :  3\n"
     ]
    }
   ],
   "source": [
    "#Aritmetic Op +,-,*,/,%,**,//\n",
    "a = 10\n",
    "b = 3\n",
    "print(\"a + b \",a+b)\n",
    "print(\"a - b \",a-b)\n",
    "print(\"a * b \",a*b)\n",
    "print(\"a / b \",a/b)\n",
    "print(\"a % b \",a%b)\n",
    "print(\"power\",3**2)\n",
    "print(\"Floor division : \",a//b)\n"
   ]
  },
  {
   "cell_type": "code",
   "execution_count": 12,
   "metadata": {},
   "outputs": [
    {
     "name": "stdout",
     "output_type": "stream",
     "text": [
      "6\n",
      "5\n",
      "10\n",
      "3.3333333333333335\n",
      "3\n",
      "9\n"
     ]
    }
   ],
   "source": [
    "#Assignment Op +=,-=,*=,/=,//=,**=,%=\n",
    "\n",
    "a = 5\n",
    "a += 1     # ++\n",
    "print(a)\n",
    "a -= 1    # --\n",
    "print(a)\n",
    "a *= 2\n",
    "print(a)\n",
    "a /= 3\n",
    "print(a)\n",
    "a = 10\n",
    "a //= 3\n",
    "print(a)\n",
    "a **= 2\n",
    "print(a)"
   ]
  },
  {
   "cell_type": "code",
   "execution_count": 14,
   "metadata": {},
   "outputs": [
    {
     "name": "stdout",
     "output_type": "stream",
     "text": [
      "90.0\n"
     ]
    }
   ],
   "source": [
    "# Multiple line code\n",
    "a = 100 + 3 - 2 * 2 + \\\n",
    "4 / 2 - 12 + 1\n",
    "print(a)"
   ]
  },
  {
   "cell_type": "code",
   "execution_count": 15,
   "metadata": {},
   "outputs": [
    {
     "name": "stdout",
     "output_type": "stream",
     "text": [
      "The point of using Lorem Ipsum is that it has a more-or-less normal distribution of letters, as opposed to using 'Content here, content here', making it look like readable English. Many desktop publishing packages and webpage editors now use Lorem Ipsum as their default model text, and a search for'lorem ipsum' will uncover many web sites still in their infancy. Various versionshave evolved over the years, sometimes by accident, sometimes on purpose (injected humour and the like).\n"
     ]
    }
   ],
   "source": [
    "# Multiple line print\n",
    "print(\"The point of using Lorem Ipsum is that it has a more-or-less normal \\\n",
    "distribution of letters, as opposed to using 'Content here, content here', \\\n",
    "making it look like readable English. Many desktop publishing packages and web\\\n",
    "page editors now use Lorem Ipsum as their default model text, and a search for\\\n",
    "'lorem ipsum' will uncover many web sites still in their infancy. Various versions\\\n",
    "have evolved over the years, sometimes by accident, sometimes on purpose \\\n",
    "(injected humour and the like).\")"
   ]
  },
  {
   "cell_type": "code",
   "execution_count": 20,
   "metadata": {},
   "outputs": [
    {
     "name": "stdout",
     "output_type": "stream",
     "text": [
      "False\n",
      "False\n",
      "False\n",
      "False\n",
      "False\n",
      "False\n",
      "False\n",
      "False\n"
     ]
    }
   ],
   "source": [
    "# False values in python\n",
    "a = \"\"\n",
    "print(bool(a))\n",
    "a = 0\n",
    "print(bool(a))\n",
    "a = 0.0\n",
    "print(bool(a))\n",
    "a = None # None -> Null or Undefined like JavaScript\n",
    "print(bool(a))\n",
    "a = []\n",
    "print(bool(a))\n",
    "a = ()\n",
    "print(bool(a))\n",
    "a = {}\n",
    "print(bool(a))\n",
    "a = False\n",
    "print(bool(a))"
   ]
  },
  {
   "cell_type": "code",
   "execution_count": 21,
   "metadata": {},
   "outputs": [
    {
     "name": "stdout",
     "output_type": "stream",
     "text": [
      "True\n",
      "True\n",
      "True\n",
      "True\n",
      "True\n",
      "True\n",
      "True\n"
     ]
    }
   ],
   "source": [
    "# True values in python\n",
    "a = \"a\"\n",
    "print(bool(a))\n",
    "a = 2\n",
    "print(bool(a))\n",
    "a = 0.2\n",
    "print(bool(a))\n",
    "a = ['akki']\n",
    "print(bool(a))\n",
    "a = (10.3)\n",
    "print(bool(a))\n",
    "a = {\"a\":1}\n",
    "print(bool(a))\n",
    "a = True\n",
    "print(bool(a))"
   ]
  },
  {
   "cell_type": "code",
   "execution_count": 24,
   "metadata": {},
   "outputs": [
    {
     "name": "stdout",
     "output_type": "stream",
     "text": [
      "10 > 3 True\n",
      "10 < 3 False\n",
      "10 >= 3 True\n",
      "10 <= 3 False\n",
      "10 == 3 False\n",
      "3 == '3' False\n"
     ]
    }
   ],
   "source": [
    "# Relational Op >,<,>=,<=,==\n",
    "\n",
    "print(\"10 > 3\",10>3)\n",
    "print(\"10 < 3\",10<3)\n",
    "print(\"10 >= 3\",10>=3)\n",
    "print(\"10 <= 3\",10<=3)\n",
    "print(\"10 == 3\",10==3)\n",
    "print(\"3 == '3'\",3=='3')"
   ]
  },
  {
   "cell_type": "code",
   "execution_count": 30,
   "metadata": {},
   "outputs": [
    {
     "name": "stdout",
     "output_type": "stream",
     "text": [
      "False\n",
      "True\n",
      "False\n",
      "False\n"
     ]
    }
   ],
   "source": [
    "# Logical Op\n",
    "a = (10>3) and (3>5)\n",
    "print(a)\n",
    "a = (10>3) or (3>5)\n",
    "print(a)\n",
    "a = not(10>3)\n",
    "print(a)\n",
    "a = not((10>3) or (3>5))\n",
    "print(a)"
   ]
  },
  {
   "cell_type": "code",
   "execution_count": 32,
   "metadata": {},
   "outputs": [
    {
     "name": "stdout",
     "output_type": "stream",
     "text": [
      "False\n",
      "False\n"
     ]
    }
   ],
   "source": [
    "# Range Checker\n",
    "marks = 101\n",
    "a = (100>=marks) and (marks>=0)\n",
    "print(a)\n",
    "a = (100>= marks >=0)\n",
    "print(a)"
   ]
  },
  {
   "cell_type": "markdown",
   "metadata": {},
   "source": [
    "**String**"
   ]
  },
  {
   "cell_type": "code",
   "execution_count": 4,
   "metadata": {},
   "outputs": [
    {
     "name": "stdout",
     "output_type": "stream",
     "text": [
      "Hello World <class 'str'>\n",
      "Hello World <class 'str'>\n",
      "The point of using Lorem Ipsum is that it has a more-or-less normal \n",
      "distribution of letters, as opposed to using 'Content here, content here', \n",
      "making it look like readable English. Many desktop publishing packages and web\n",
      "page editors now use Lorem Ipsum as their default model text, and a search for\n",
      "'lorem ipsum' will uncover many web sites still in their infancy. Various versions\n",
      "have evolved over the years, sometimes by accident, sometimes on purpose \n",
      "(injected humour and the like).\n",
      "\n",
      "The point of using Lorem Ipsum is that it has a more-or-less normal \n",
      "distribution of letters, as opposed to using 'Content here, content here', \n",
      "making it look like readable English. Many desktop publishing packages and web\n",
      "page editors now use Lorem Ipsum as their default model text, and a search for\n",
      "'lorem ipsum' will uncover many web sites still in their infancy. Various versions\n",
      "have evolved over the years, sometimes by accident, sometimes on purpose \n",
      "(injected humour and the like).\n"
     ]
    }
   ],
   "source": [
    "x = \"Hello World\"\n",
    "print(x,type(x))\n",
    "x = 'Hello World'\n",
    "print(x,type(x))\n",
    "x = \"\"\"The point of using Lorem Ipsum is that it has a more-or-less normal \n",
    "distribution of letters, as opposed to using 'Content here, content here', \n",
    "making it look like readable English. Many desktop publishing packages and web\n",
    "page editors now use Lorem Ipsum as their default model text, and a search for\n",
    "'lorem ipsum' will uncover many web sites still in their infancy. Various versions\n",
    "have evolved over the years, sometimes by accident, sometimes on purpose \n",
    "(injected humour and the like).\"\"\"\n",
    "print(x)\n",
    "x = '''The point of using Lorem Ipsum is that it has a more-or-less normal \n",
    "distribution of letters, as opposed to using 'Content here, content here', \n",
    "making it look like readable English. Many desktop publishing packages and web\n",
    "page editors now use Lorem Ipsum as their default model text, and a search for\n",
    "'lorem ipsum' will uncover many web sites still in their infancy. Various versions\n",
    "have evolved over the years, sometimes by accident, sometimes on purpose \n",
    "(injected humour and the like).'''\n",
    "print()\n",
    "print(x)"
   ]
  },
  {
   "cell_type": "code",
   "execution_count": 5,
   "metadata": {},
   "outputs": [
    {
     "name": "stdout",
     "output_type": "stream",
     "text": [
      "Length of string x is :  491\n"
     ]
    }
   ],
   "source": [
    "print(\"Length of string x is : \",len(x))"
   ]
  },
  {
   "cell_type": "code",
   "execution_count": 11,
   "metadata": {},
   "outputs": [
    {
     "name": "stdout",
     "output_type": "stream",
     "text": [
      "'Akshay'\n",
      "\"Akshay\"\n",
      "\"Akshay\"\n",
      "'Akshay'\n"
     ]
    }
   ],
   "source": [
    "x=\"'Akshay'\"\n",
    "print(x)\n",
    "x='\"Akshay\"'\n",
    "print(x)\n",
    "x=\"\\\"Akshay\\\"\"\n",
    "print(x)\n",
    "x='\\'Akshay\\''\n",
    "print(x)"
   ]
  },
  {
   "cell_type": "code",
   "execution_count": 17,
   "metadata": {},
   "outputs": [
    {
     "name": "stdout",
     "output_type": "stream",
     "text": [
      "Akshay Soni\n",
      "Akshay 52\n"
     ]
    }
   ],
   "source": [
    "x = \"Akshay\" + \" \" + 'Soni'\n",
    "print(x)\n",
    "a = 2\n",
    "x = \"Akshay\" + \" \" + '5' + str(a)\n",
    "print(x)"
   ]
  },
  {
   "cell_type": "code",
   "execution_count": 19,
   "metadata": {},
   "outputs": [
    {
     "name": "stdout",
     "output_type": "stream",
     "text": [
      "Hello Hello Hello  18\n"
     ]
    }
   ],
   "source": [
    "#Repetation\n",
    "x = \"Hello \" * 3\n",
    "print(x,len(x))"
   ]
  },
  {
   "cell_type": "code",
   "execution_count": 25,
   "metadata": {},
   "outputs": [
    {
     "name": "stdout",
     "output_type": "stream",
     "text": [
      "A\n",
      "True\n",
      "True\n",
      "True\n",
      "i\n"
     ]
    }
   ],
   "source": [
    "x = \"Akshay\" + \" Soni\"\n",
    "# x[0] = 'a'   not possible\n",
    "print(x[0])\n",
    "print(\"Soni\" in x)\n",
    "print(\"y S\" in x)\n",
    "print(\"Sumit\" not in x)\n",
    "print(x[-1])"
   ]
  },
  {
   "cell_type": "code",
   "execution_count": 29,
   "metadata": {},
   "outputs": [
    {
     "name": "stdout",
     "output_type": "stream",
     "text": [
      "Akshay\n",
      "Soni\n",
      "Akshay\n"
     ]
    }
   ],
   "source": [
    "x = \"Akshay Soni\"\n",
    "s1 = slice(0,6)\n",
    "print(x[s1])\n",
    "print(x[7:11])\n",
    "print(x[:6])"
   ]
  },
  {
   "cell_type": "code",
   "execution_count": 36,
   "metadata": {},
   "outputs": [
    {
     "name": "stdout",
     "output_type": "stream",
     "text": [
      "a =  10 b =  6.3 c =  Hello\n",
      "a = 10 b = 6.300000 c = Hello\n",
      "Hello\tworld .....!"
     ]
    }
   ],
   "source": [
    "a = 10\n",
    "b = 6.3\n",
    "c = \"Hello\"\n",
    "print(\"a = \",a,\"b = \",b,\"c = \",c)\n",
    "print(\"a = %d b = %f c = %s\"%(a,b,c))\n",
    "print(c,\"world\",sep = \"\\t\",end = \" .....!\")"
   ]
  },
  {
   "cell_type": "code",
   "execution_count": 39,
   "metadata": {},
   "outputs": [
    {
     "name": "stdout",
     "output_type": "stream",
     "text": [
      "    Python\n"
     ]
    }
   ],
   "source": [
    "print(format(\"Python\",\">10s\"))"
   ]
  },
  {
   "cell_type": "markdown",
   "metadata": {},
   "source": [
    "**String Methods**"
   ]
  },
  {
   "cell_type": "code",
   "execution_count": 41,
   "metadata": {},
   "outputs": [
    {
     "name": "stdout",
     "output_type": "stream",
     "text": [
      "AKSHAY SONI\n",
      "akshay soni\n"
     ]
    }
   ],
   "source": [
    "x = \"Akshay Soni\"\n",
    "print(x.upper())\n",
    "print(x.lower())"
   ]
  },
  {
   "cell_type": "code",
   "execution_count": 50,
   "metadata": {},
   "outputs": [
    {
     "name": "stdout",
     "output_type": "stream",
     "text": [
      "True\n",
      "False\n",
      "True\n",
      "True\n",
      "True\n"
     ]
    }
   ],
   "source": [
    "s = \"abC123\"\n",
    "print(s.isalnum())\n",
    "s = \"Akki1\"\n",
    "print(s.isalpha())\n",
    "s = \"12345\"\n",
    "print(s.isdigit())\n",
    "s = \"AKKI\"\n",
    "print(s.isupper())\n",
    "s = \"akki\"\n",
    "print(s.islower())"
   ]
  },
  {
   "cell_type": "code",
   "execution_count": 61,
   "metadata": {},
   "outputs": [
    {
     "name": "stdout",
     "output_type": "stream",
     "text": [
      "574\n",
      "True\n",
      "True\n",
      "6\n",
      "568\n",
      "4\n"
     ]
    },
    {
     "name": "stdin",
     "output_type": "stream",
     "text": [
      "what to put abcd\n"
     ]
    },
    {
     "name": "stdout",
     "output_type": "stream",
     "text": [
      "Lorem abcd is simply dummy text of the printing and typesetting industry. Lorem abcd has been the industry's standard dummy text ever since the 1500s, when an unknown printer took a galley of type and scrambled it to make a type specimen book. It has survived not only five centuries, but also the leap into electronic typesetting, remaining essentially unchanged. It was popularised in the 1960s with the release of Letraset sheets containing Lorem abcd passages, and more recently with desktop publishing software like Aldus PageMaker including versions of Lorem abcd.\n",
      "\n",
      "Lorem abcd is simply dummy text of the printing and typesetting industry. lorem abcd has been the industry's standard dummy text ever since the 1500s, when an unknown printer took a galley of type and scrambled it to make a type specimen book. it has survived not only five centuries, but also the leap into electronic typesetting, remaining essentially unchanged. it was popularised in the 1960s with the release of letraset sheets containing lorem abcd passages, and more recently with desktop publishing software like aldus pagemaker including versions of lorem abcd.\n",
      "\n",
      "Lorem Abcd Is Simply Dummy Text Of The Printing And Typesetting Industry. Lorem Abcd Has Been The Industry'S Standard Dummy Text Ever Since The 1500S, When An Unknown Printer Took A Galley Of Type And Scrambled It To Make A Type Specimen Book. It Has Survived Not Only Five Centuries, But Also The Leap Into Electronic Typesetting, Remaining Essentially Unchanged. It Was Popularised In The 1960S With The Release Of Letraset Sheets Containing Lorem Abcd Passages, And More Recently With Desktop Publishing Software Like Aldus Pagemaker Including Versions Of Lorem Abcd.\n"
     ]
    }
   ],
   "source": [
    "s = \"Lorem Ipsum is simply dummy text of the printing and typesetting industry. Lorem Ipsum has been the industry's standard dummy text ever since the 1500s, when an unknown printer took a galley of type and scrambled it to make a type specimen book. It has survived not only five centuries, but also the leap into electronic typesetting, remaining essentially unchanged. It was popularised in the 1960s with the release of Letraset sheets containing Lorem Ipsum passages, and more recently with desktop publishing software like Aldus PageMaker including versions of Lorem Ipsum.\"\n",
    "print(len(s))\n",
    "print(s.startswith(\"Lorem\"))\n",
    "print(s.endswith(\"Ipsum.\"))\n",
    "print(s.find(\"Ipsum\"))\n",
    "print(s.rfind(\"Ipsum\"))\n",
    "print(s.count(\"Ipsum\"))\n",
    "s = s.replace(\"Ipsum\",input(\"what to put\"))\n",
    "print(s)\n",
    "s = s.capitalize()\n",
    "print()\n",
    "print(s)\n",
    "s = s.title()\n",
    "print()\n",
    "print(s)"
   ]
  },
  {
   "cell_type": "code",
   "execution_count": 65,
   "metadata": {},
   "outputs": [
    {
     "name": "stdout",
     "output_type": "stream",
     "text": [
      "   ----Hello World----        len 29\n",
      "----Hello World---- len 19\n",
      "Hello World len 11\n"
     ]
    }
   ],
   "source": [
    "s = \"   ----Hello World----       \"\n",
    "print(s,\"len\",len(s))\n",
    "s = s.strip()\n",
    "print(s,\"len\",len(s))\n",
    "s = s.strip(\"-\")\n",
    "print(s,\"len\",len(s))"
   ]
  },
  {
   "cell_type": "code",
   "execution_count": 72,
   "metadata": {},
   "outputs": [
    {
     "name": "stdout",
     "output_type": "stream",
     "text": [
      "|    Hello World    |\n",
      "|Hello World        |\n",
      "|        Hello World|\n"
     ]
    }
   ],
   "source": [
    "print(\"|\",s.center(19),\"|\",sep = \"\")\n",
    "print(\"|\",s.ljust(19),\"|\",sep = \"\")\n",
    "print(\"|\",s.rjust(19),\"|\",sep = \"\")"
   ]
  },
  {
   "cell_type": "code",
   "execution_count": null,
   "metadata": {},
   "outputs": [],
   "source": []
  }
 ],
 "metadata": {
  "kernelspec": {
   "display_name": "Python 3",
   "language": "python",
   "name": "python3"
  },
  "language_info": {
   "codemirror_mode": {
    "name": "ipython",
    "version": 3
   },
   "file_extension": ".py",
   "mimetype": "text/x-python",
   "name": "python",
   "nbconvert_exporter": "python",
   "pygments_lexer": "ipython3",
   "version": "3.7.3"
  }
 },
 "nbformat": 4,
 "nbformat_minor": 4
}
