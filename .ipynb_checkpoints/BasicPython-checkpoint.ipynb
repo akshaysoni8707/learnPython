{
 "cells": [
  {
   "cell_type": "code",
   "execution_count": 1,
   "metadata": {},
   "outputs": [
    {
     "name": "stdout",
     "output_type": "stream",
     "text": [
      "Hello World\n"
     ]
    }
   ],
   "source": [
    "print('Hello World')"
   ]
  },
  {
   "cell_type": "markdown",
   "metadata": {},
   "source": [
    "**Variables**"
   ]
  },
  {
   "cell_type": "code",
   "execution_count": 2,
   "metadata": {},
   "outputs": [
    {
     "name": "stdout",
     "output_type": "stream",
     "text": [
      "10\n",
      "\n"
     ]
    }
   ],
   "source": [
    "a = 10\n",
    "b = 10\n",
    "c = 20\n",
    "print(a)\n",
    "print()"
   ]
  },
  {
   "cell_type": "code",
   "execution_count": 4,
   "metadata": {},
   "outputs": [
    {
     "name": "stdout",
     "output_type": "stream",
     "text": [
      "10 <class 'int'> 140713159857248\n",
      "10 <class 'int'> 140713159857248\n",
      "20 <class 'int'> 140713159857568\n"
     ]
    }
   ],
   "source": [
    "print(a,type(a),id(a))\n",
    "print(b,type(b),id(b))\n",
    "print(c,type(c),id(c))"
   ]
  },
  {
   "cell_type": "code",
   "execution_count": 5,
   "metadata": {},
   "outputs": [
    {
     "name": "stdout",
     "output_type": "stream",
     "text": [
      "10 <class 'int'>\n",
      "2.5 <class 'float'>\n",
      "Akshay <class 'str'>\n",
      "Akki <class 'str'>\n",
      "True <class 'bool'>\n",
      "[10, 'Akki', 2.35] <class 'list'>\n",
      "(10, 2.3) <class 'tuple'>\n",
      "{'a': 101, 'b': 102} <class 'dict'>\n"
     ]
    }
   ],
   "source": [
    "\"\"\"\n",
    "This is a documentation comment\n",
    "\"\"\"\n",
    "# This is an inline comment\n",
    "a = 10\n",
    "print(a,type(a))\n",
    "a = 2.5\n",
    "print(a,type(a))\n",
    "a = \"Akshay\"\n",
    "print(a,type(a))\n",
    "a = 'Akki'\n",
    "print(a,type(a))\n",
    "a = True\n",
    "print(a,type(a))\n",
    "a = [10,'Akki',2.35]\n",
    "print(a,type(a))\n",
    "a = (10,2.3)\n",
    "print(a,type(a))\n",
    "a = {\"a\":101,\"b\":102}\n",
    "print(a,type(a))"
   ]
  },
  {
   "cell_type": "code",
   "execution_count": 6,
   "metadata": {},
   "outputs": [
    {
     "ename": "SyntaxError",
     "evalue": "invalid syntax (<ipython-input-6-1a9bb92cc795>, line 1)",
     "output_type": "error",
     "traceback": [
      "\u001b[1;36m  File \u001b[1;32m\"<ipython-input-6-1a9bb92cc795>\"\u001b[1;36m, line \u001b[1;32m1\u001b[0m\n\u001b[1;33m    if = 5\u001b[0m\n\u001b[1;37m       ^\u001b[0m\n\u001b[1;31mSyntaxError\u001b[0m\u001b[1;31m:\u001b[0m invalid syntax\n"
     ]
    }
   ],
   "source": [
    "if = 5"
   ]
  },
  {
   "cell_type": "code",
   "execution_count": 7,
   "metadata": {},
   "outputs": [
    {
     "name": "stdout",
     "output_type": "stream",
     "text": [
      "10.2 <class 'float'>\n",
      "25 <class 'int'>\n"
     ]
    }
   ],
   "source": [
    "_a = 10.2\n",
    "print(_a,type(_a))\n",
    "age = 25\n",
    "print(age,type(age))"
   ]
  },
  {
   "cell_type": "code",
   "execution_count": 8,
   "metadata": {},
   "outputs": [
    {
     "name": "stdout",
     "output_type": "stream",
     "text": [
      "10 <class 'int'>\n",
      "Akki <class 'str'>\n",
      "3.56 <class 'float'>\n"
     ]
    }
   ],
   "source": [
    "a1,b1,c1 = 10,'Akki',3.56\n",
    "print(a1,type(a1))\n",
    "print(b1,type(b1))\n",
    "print(c1,type(c1))"
   ]
  },
  {
   "cell_type": "code",
   "execution_count": 1,
   "metadata": {},
   "outputs": [
    {
     "name": "stdout",
     "output_type": "stream",
     "text": [
      "a =  20  b =  10\n"
     ]
    }
   ],
   "source": [
    "a = 10\n",
    "b = 20\n",
    "\n",
    "a,b = b,a\n",
    "print(\"a = \",a,\" b = \",b)"
   ]
  },
  {
   "cell_type": "code",
   "execution_count": 2,
   "metadata": {},
   "outputs": [
    {
     "name": "stdin",
     "output_type": "stream",
     "text": [
      "Enter a name Akshay\n"
     ]
    },
    {
     "name": "stdout",
     "output_type": "stream",
     "text": [
      "Akshay <class 'str'>\n"
     ]
    }
   ],
   "source": [
    "a = input(\"Enter a name\")\n",
    "print(a,type(a))"
   ]
  },
  {
   "cell_type": "code",
   "execution_count": 3,
   "metadata": {},
   "outputs": [
    {
     "name": "stdin",
     "output_type": "stream",
     "text": [
      "Enter your age :  25\n"
     ]
    },
    {
     "name": "stdout",
     "output_type": "stream",
     "text": [
      "25 <class 'int'>\n"
     ]
    },
    {
     "name": "stdin",
     "output_type": "stream",
     "text": [
      "Enter your salary :  12345.66\n"
     ]
    },
    {
     "name": "stdout",
     "output_type": "stream",
     "text": [
      "12345.66 <class 'float'>\n"
     ]
    }
   ],
   "source": [
    "b = int(input(\"Enter your age : \"))\n",
    "print(b,type(b))\n",
    "salary = float(input(\"Enter your salary : \"))\n",
    "print(salary,type(salary))"
   ]
  },
  {
   "cell_type": "code",
   "execution_count": 4,
   "metadata": {},
   "outputs": [
    {
     "name": "stdin",
     "output_type": "stream",
     "text": [
      "Enter a number :  akshay\n"
     ]
    },
    {
     "ename": "ValueError",
     "evalue": "invalid literal for int() with base 10: 'akshay'",
     "output_type": "error",
     "traceback": [
      "\u001b[1;31m---------------------------------------------------------------------------\u001b[0m",
      "\u001b[1;31mValueError\u001b[0m                                Traceback (most recent call last)",
      "\u001b[1;32m<ipython-input-4-6944deac902d>\u001b[0m in \u001b[0;36m<module>\u001b[1;34m\u001b[0m\n\u001b[1;32m----> 1\u001b[1;33m \u001b[0mc\u001b[0m \u001b[1;33m=\u001b[0m \u001b[0mint\u001b[0m\u001b[1;33m(\u001b[0m\u001b[0minput\u001b[0m\u001b[1;33m(\u001b[0m\u001b[1;34m\"Enter a number : \"\u001b[0m\u001b[1;33m)\u001b[0m\u001b[1;33m)\u001b[0m\u001b[1;33m\u001b[0m\u001b[1;33m\u001b[0m\u001b[0m\n\u001b[0m\u001b[0;32m      2\u001b[0m \u001b[0mprint\u001b[0m\u001b[1;33m(\u001b[0m\u001b[0mc\u001b[0m\u001b[1;33m,\u001b[0m\u001b[0mtype\u001b[0m\u001b[1;33m(\u001b[0m\u001b[0mc\u001b[0m\u001b[1;33m)\u001b[0m\u001b[1;33m)\u001b[0m\u001b[1;33m\u001b[0m\u001b[1;33m\u001b[0m\u001b[0m\n",
      "\u001b[1;31mValueError\u001b[0m: invalid literal for int() with base 10: 'akshay'"
     ]
    }
   ],
   "source": [
    "c = int(input(\"Enter a number : \"))\n",
    "print(c,type(c))"
   ]
  },
  {
   "cell_type": "code",
   "execution_count": 12,
   "metadata": {},
   "outputs": [
    {
     "name": "stdin",
     "output_type": "stream",
     "text": [
      "true or false :  0\n"
     ]
    },
    {
     "name": "stdout",
     "output_type": "stream",
     "text": [
      "False <class 'bool'>\n"
     ]
    }
   ],
   "source": [
    "d = bool(int(input(\"true or false : \")))\n",
    "print(d,type(d))"
   ]
  },
  {
   "cell_type": "code",
   "execution_count": 10,
   "metadata": {},
   "outputs": [
    {
     "name": "stdout",
     "output_type": "stream",
     "text": [
      "30\n",
      "10\n"
     ]
    }
   ],
   "source": [
    "a,b,c = 10,30,20\n",
    "print(max(a,b,c))\n",
    "print(min(a,b,c))"
   ]
  },
  {
   "cell_type": "code",
   "execution_count": 15,
   "metadata": {},
   "outputs": [
    {
     "name": "stdout",
     "output_type": "stream",
     "text": [
      "data :  345.23 /-\n",
      "data :  53215.24 /-\n"
     ]
    }
   ],
   "source": [
    "print(\"data : \",345.23,\"/-\")\n",
    "print(\"data : \",53215.24,\"/-\")"
   ]
  },
  {
   "cell_type": "code",
   "execution_count": 17,
   "metadata": {},
   "outputs": [
    {
     "name": "stdout",
     "output_type": "stream",
     "text": [
      "data :      345.23 /-\n",
      "data :    53215.24 /-\n"
     ]
    }
   ],
   "source": [
    "print(\"data : \",format(345.23,\"10.2f\"),\"/-\")\n",
    "print(\"data : \",format(53215.24,\"10.2f\"),\"/-\")"
   ]
  },
  {
   "cell_type": "code",
   "execution_count": 18,
   "metadata": {},
   "outputs": [
    {
     "name": "stdout",
     "output_type": "stream",
     "text": [
      "  123\n",
      "123\n"
     ]
    }
   ],
   "source": [
    "print(format(123,\"5d\"))\n",
    "print(format(123))"
   ]
  },
  {
   "cell_type": "code",
   "execution_count": 25,
   "metadata": {},
   "outputs": [
    {
     "name": "stdout",
     "output_type": "stream",
     "text": [
      "4,523,456,789.56\n"
     ]
    }
   ],
   "source": [
    "print(format(4523456789.5573,\",.2f\"))"
   ]
  },
  {
   "cell_type": "code",
   "execution_count": 29,
   "metadata": {},
   "outputs": [
    {
     "name": "stdout",
     "output_type": "stream",
     "text": [
      "21.34      Rupees\n",
      "123.45     Rupees\n"
     ]
    }
   ],
   "source": [
    "print(format(21.34,\"<10.2f\"),\"Rupees\")\n",
    "print(format(123.45,\"<10.2f\"),\"Rupees\")"
   ]
  },
  {
   "cell_type": "code",
   "execution_count": null,
   "metadata": {},
   "outputs": [],
   "source": []
  }
 ],
 "metadata": {
  "kernelspec": {
   "display_name": "Python 3",
   "language": "python",
   "name": "python3"
  },
  "language_info": {
   "codemirror_mode": {
    "name": "ipython",
    "version": 3
   },
   "file_extension": ".py",
   "mimetype": "text/x-python",
   "name": "python",
   "nbconvert_exporter": "python",
   "pygments_lexer": "ipython3",
   "version": "3.7.3"
  }
 },
 "nbformat": 4,
 "nbformat_minor": 4
}
