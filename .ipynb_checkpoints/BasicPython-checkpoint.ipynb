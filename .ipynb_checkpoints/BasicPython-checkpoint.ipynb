{
 "cells": [
  {
   "cell_type": "code",
   "execution_count": 1,
   "metadata": {},
   "outputs": [
    {
     "name": "stdout",
     "output_type": "stream",
     "text": [
      "Hello World\n"
     ]
    }
   ],
   "source": [
    "print('Hello World')"
   ]
  },
  {
   "cell_type": "markdown",
   "metadata": {},
   "source": [
    "**Variables**"
   ]
  },
  {
   "cell_type": "code",
   "execution_count": 2,
   "metadata": {},
   "outputs": [
    {
     "name": "stdout",
     "output_type": "stream",
     "text": [
      "10\n",
      "\n"
     ]
    }
   ],
   "source": [
    "a = 10\n",
    "b = 10\n",
    "c = 20\n",
    "print(a)\n",
    "print()"
   ]
  },
  {
   "cell_type": "code",
   "execution_count": 4,
   "metadata": {},
   "outputs": [
    {
     "name": "stdout",
     "output_type": "stream",
     "text": [
      "10 <class 'int'> 140713159857248\n",
      "10 <class 'int'> 140713159857248\n",
      "20 <class 'int'> 140713159857568\n"
     ]
    }
   ],
   "source": [
    "print(a,type(a),id(a))\n",
    "print(b,type(b),id(b))\n",
    "print(c,type(c),id(c))"
   ]
  },
  {
   "cell_type": "code",
   "execution_count": 5,
   "metadata": {},
   "outputs": [
    {
     "name": "stdout",
     "output_type": "stream",
     "text": [
      "10 <class 'int'>\n",
      "2.5 <class 'float'>\n",
      "Akshay <class 'str'>\n",
      "Akki <class 'str'>\n",
      "True <class 'bool'>\n",
      "[10, 'Akki', 2.35] <class 'list'>\n",
      "(10, 2.3) <class 'tuple'>\n",
      "{'a': 101, 'b': 102} <class 'dict'>\n"
     ]
    }
   ],
   "source": [
    "\"\"\"\n",
    "This is a documentation comment\n",
    "\"\"\"\n",
    "# This is an inline comment\n",
    "a = 10\n",
    "print(a,type(a))\n",
    "a = 2.5\n",
    "print(a,type(a))\n",
    "a = \"Akshay\"\n",
    "print(a,type(a))\n",
    "a = 'Akki'\n",
    "print(a,type(a))\n",
    "a = True\n",
    "print(a,type(a))\n",
    "a = [10,'Akki',2.35]\n",
    "print(a,type(a))\n",
    "a = (10,2.3)\n",
    "print(a,type(a))\n",
    "a = {\"a\":101,\"b\":102}\n",
    "print(a,type(a))"
   ]
  },
  {
   "cell_type": "code",
   "execution_count": 6,
   "metadata": {},
   "outputs": [
    {
     "ename": "SyntaxError",
     "evalue": "invalid syntax (<ipython-input-6-1a9bb92cc795>, line 1)",
     "output_type": "error",
     "traceback": [
      "\u001b[1;36m  File \u001b[1;32m\"<ipython-input-6-1a9bb92cc795>\"\u001b[1;36m, line \u001b[1;32m1\u001b[0m\n\u001b[1;33m    if = 5\u001b[0m\n\u001b[1;37m       ^\u001b[0m\n\u001b[1;31mSyntaxError\u001b[0m\u001b[1;31m:\u001b[0m invalid syntax\n"
     ]
    }
   ],
   "source": [
    "if = 5"
   ]
  },
  {
   "cell_type": "code",
   "execution_count": 7,
   "metadata": {},
   "outputs": [
    {
     "name": "stdout",
     "output_type": "stream",
     "text": [
      "10.2 <class 'float'>\n",
      "25 <class 'int'>\n"
     ]
    }
   ],
   "source": [
    "_a = 10.2\n",
    "print(_a,type(_a))\n",
    "age = 25\n",
    "print(age,type(age))"
   ]
  },
  {
   "cell_type": "code",
   "execution_count": 8,
   "metadata": {},
   "outputs": [
    {
     "name": "stdout",
     "output_type": "stream",
     "text": [
      "10 <class 'int'>\n",
      "Akki <class 'str'>\n",
      "3.56 <class 'float'>\n"
     ]
    }
   ],
   "source": [
    "a1,b1,c1 = 10,'Akki',3.56\n",
    "print(a1,type(a1))\n",
    "print(b1,type(b1))\n",
    "print(c1,type(c1))"
   ]
  },
  {
   "cell_type": "code",
   "execution_count": 1,
   "metadata": {},
   "outputs": [
    {
     "name": "stdout",
     "output_type": "stream",
     "text": [
      "a =  20  b =  10\n"
     ]
    }
   ],
   "source": [
    "a = 10\n",
    "b = 20\n",
    "\n",
    "a,b = b,a\n",
    "print(\"a = \",a,\" b = \",b)"
   ]
  },
  {
   "cell_type": "code",
   "execution_count": 2,
   "metadata": {},
   "outputs": [
    {
     "name": "stdin",
     "output_type": "stream",
     "text": [
      "Enter a name Akshay\n"
     ]
    },
    {
     "name": "stdout",
     "output_type": "stream",
     "text": [
      "Akshay <class 'str'>\n"
     ]
    }
   ],
   "source": [
    "a = input(\"Enter a name\")\n",
    "print(a,type(a))"
   ]
  },
  {
   "cell_type": "code",
   "execution_count": 3,
   "metadata": {},
   "outputs": [
    {
     "name": "stdin",
     "output_type": "stream",
     "text": [
      "Enter your age :  25\n"
     ]
    },
    {
     "name": "stdout",
     "output_type": "stream",
     "text": [
      "25 <class 'int'>\n"
     ]
    },
    {
     "name": "stdin",
     "output_type": "stream",
     "text": [
      "Enter your salary :  12345.66\n"
     ]
    },
    {
     "name": "stdout",
     "output_type": "stream",
     "text": [
      "12345.66 <class 'float'>\n"
     ]
    }
   ],
   "source": [
    "b = int(input(\"Enter your age : \"))\n",
    "print(b,type(b))\n",
    "salary = float(input(\"Enter your salary : \"))\n",
    "print(salary,type(salary))"
   ]
  },
  {
   "cell_type": "code",
   "execution_count": 4,
   "metadata": {},
   "outputs": [
    {
     "name": "stdin",
     "output_type": "stream",
     "text": [
      "Enter a number :  akshay\n"
     ]
    },
    {
     "ename": "ValueError",
     "evalue": "invalid literal for int() with base 10: 'akshay'",
     "output_type": "error",
     "traceback": [
      "\u001b[1;31m---------------------------------------------------------------------------\u001b[0m",
      "\u001b[1;31mValueError\u001b[0m                                Traceback (most recent call last)",
      "\u001b[1;32m<ipython-input-4-6944deac902d>\u001b[0m in \u001b[0;36m<module>\u001b[1;34m\u001b[0m\n\u001b[1;32m----> 1\u001b[1;33m \u001b[0mc\u001b[0m \u001b[1;33m=\u001b[0m \u001b[0mint\u001b[0m\u001b[1;33m(\u001b[0m\u001b[0minput\u001b[0m\u001b[1;33m(\u001b[0m\u001b[1;34m\"Enter a number : \"\u001b[0m\u001b[1;33m)\u001b[0m\u001b[1;33m)\u001b[0m\u001b[1;33m\u001b[0m\u001b[1;33m\u001b[0m\u001b[0m\n\u001b[0m\u001b[0;32m      2\u001b[0m \u001b[0mprint\u001b[0m\u001b[1;33m(\u001b[0m\u001b[0mc\u001b[0m\u001b[1;33m,\u001b[0m\u001b[0mtype\u001b[0m\u001b[1;33m(\u001b[0m\u001b[0mc\u001b[0m\u001b[1;33m)\u001b[0m\u001b[1;33m)\u001b[0m\u001b[1;33m\u001b[0m\u001b[1;33m\u001b[0m\u001b[0m\n",
      "\u001b[1;31mValueError\u001b[0m: invalid literal for int() with base 10: 'akshay'"
     ]
    }
   ],
   "source": [
    "c = int(input(\"Enter a number : \"))\n",
    "print(c,type(c))"
   ]
  },
  {
   "cell_type": "code",
   "execution_count": 12,
   "metadata": {},
   "outputs": [
    {
     "name": "stdin",
     "output_type": "stream",
     "text": [
      "true or false :  0\n"
     ]
    },
    {
     "name": "stdout",
     "output_type": "stream",
     "text": [
      "False <class 'bool'>\n"
     ]
    }
   ],
   "source": [
    "d = bool(int(input(\"true or false : \")))\n",
    "print(d,type(d))"
   ]
  },
  {
   "cell_type": "code",
   "execution_count": 10,
   "metadata": {},
   "outputs": [
    {
     "name": "stdout",
     "output_type": "stream",
     "text": [
      "30\n",
      "10\n"
     ]
    }
   ],
   "source": [
    "a,b,c = 10,30,20\n",
    "print(max(a,b,c))\n",
    "print(min(a,b,c))"
   ]
  },
  {
   "cell_type": "code",
   "execution_count": 15,
   "metadata": {},
   "outputs": [
    {
     "name": "stdout",
     "output_type": "stream",
     "text": [
      "data :  345.23 /-\n",
      "data :  53215.24 /-\n"
     ]
    }
   ],
   "source": [
    "print(\"data : \",345.23,\"/-\")\n",
    "print(\"data : \",53215.24,\"/-\")"
   ]
  },
  {
   "cell_type": "code",
   "execution_count": 17,
   "metadata": {},
   "outputs": [
    {
     "name": "stdout",
     "output_type": "stream",
     "text": [
      "data :      345.23 /-\n",
      "data :    53215.24 /-\n"
     ]
    }
   ],
   "source": [
    "print(\"data : \",format(345.23,\"10.2f\"),\"/-\")\n",
    "print(\"data : \",format(53215.24,\"10.2f\"),\"/-\")"
   ]
  },
  {
   "cell_type": "code",
   "execution_count": 18,
   "metadata": {},
   "outputs": [
    {
     "name": "stdout",
     "output_type": "stream",
     "text": [
      "  123\n",
      "123\n"
     ]
    }
   ],
   "source": [
    "print(format(123,\"5d\"))\n",
    "print(format(123))"
   ]
  },
  {
   "cell_type": "code",
   "execution_count": 25,
   "metadata": {},
   "outputs": [
    {
     "name": "stdout",
     "output_type": "stream",
     "text": [
      "4,523,456,789.56\n"
     ]
    }
   ],
   "source": [
    "print(format(4523456789.5573,\",.2f\"))"
   ]
  },
  {
   "cell_type": "code",
   "execution_count": 29,
   "metadata": {},
   "outputs": [
    {
     "name": "stdout",
     "output_type": "stream",
     "text": [
      "21.34      Rupees\n",
      "123.45     Rupees\n"
     ]
    }
   ],
   "source": [
    "print(format(21.34,\"<10.2f\"),\"Rupees\")\n",
    "print(format(123.45,\"<10.2f\"),\"Rupees\")"
   ]
  },
  {
   "cell_type": "markdown",
   "metadata": {},
   "source": [
    "**Operators**"
   ]
  },
  {
   "cell_type": "code",
   "execution_count": 6,
   "metadata": {},
   "outputs": [
    {
     "name": "stdout",
     "output_type": "stream",
     "text": [
      "a + b  13\n",
      "a - b  7\n",
      "a * b  30\n",
      "a / b  3.3333333333333335\n",
      "a % b  1\n",
      "power 9\n",
      "Floor division :  3\n"
     ]
    }
   ],
   "source": [
    "#Aritmetic Op +,-,*,/,%,**,//\n",
    "a = 10\n",
    "b = 3\n",
    "print(\"a + b \",a+b)\n",
    "print(\"a - b \",a-b)\n",
    "print(\"a * b \",a*b)\n",
    "print(\"a / b \",a/b)\n",
    "print(\"a % b \",a%b)\n",
    "print(\"power\",3**2)\n",
    "print(\"Floor division : \",a//b)\n"
   ]
  },
  {
   "cell_type": "code",
   "execution_count": 12,
   "metadata": {},
   "outputs": [
    {
     "name": "stdout",
     "output_type": "stream",
     "text": [
      "6\n",
      "5\n",
      "10\n",
      "3.3333333333333335\n",
      "3\n",
      "9\n"
     ]
    }
   ],
   "source": [
    "#Assignment Op +=,-=,*=,/=,//=,**=,%=\n",
    "\n",
    "a = 5\n",
    "a += 1     # ++\n",
    "print(a)\n",
    "a -= 1    # --\n",
    "print(a)\n",
    "a *= 2\n",
    "print(a)\n",
    "a /= 3\n",
    "print(a)\n",
    "a = 10\n",
    "a //= 3\n",
    "print(a)\n",
    "a **= 2\n",
    "print(a)"
   ]
  },
  {
   "cell_type": "code",
   "execution_count": 14,
   "metadata": {},
   "outputs": [
    {
     "name": "stdout",
     "output_type": "stream",
     "text": [
      "90.0\n"
     ]
    }
   ],
   "source": [
    "# Multiple line code\n",
    "a = 100 + 3 - 2 * 2 + \\\n",
    "4 / 2 - 12 + 1\n",
    "print(a)"
   ]
  },
  {
   "cell_type": "code",
   "execution_count": 15,
   "metadata": {},
   "outputs": [
    {
     "name": "stdout",
     "output_type": "stream",
     "text": [
      "The point of using Lorem Ipsum is that it has a more-or-less normal distribution of letters, as opposed to using 'Content here, content here', making it look like readable English. Many desktop publishing packages and webpage editors now use Lorem Ipsum as their default model text, and a search for'lorem ipsum' will uncover many web sites still in their infancy. Various versionshave evolved over the years, sometimes by accident, sometimes on purpose (injected humour and the like).\n"
     ]
    }
   ],
   "source": [
    "# Multiple line print\n",
    "print(\"The point of using Lorem Ipsum is that it has a more-or-less normal \\\n",
    "distribution of letters, as opposed to using 'Content here, content here', \\\n",
    "making it look like readable English. Many desktop publishing packages and web\\\n",
    "page editors now use Lorem Ipsum as their default model text, and a search for\\\n",
    "'lorem ipsum' will uncover many web sites still in their infancy. Various versions\\\n",
    "have evolved over the years, sometimes by accident, sometimes on purpose \\\n",
    "(injected humour and the like).\")"
   ]
  },
  {
   "cell_type": "code",
   "execution_count": 20,
   "metadata": {},
   "outputs": [
    {
     "name": "stdout",
     "output_type": "stream",
     "text": [
      "False\n",
      "False\n",
      "False\n",
      "False\n",
      "False\n",
      "False\n",
      "False\n",
      "False\n"
     ]
    }
   ],
   "source": [
    "# False values in python\n",
    "a = \"\"\n",
    "print(bool(a))\n",
    "a = 0\n",
    "print(bool(a))\n",
    "a = 0.0\n",
    "print(bool(a))\n",
    "a = None # None -> Null or Undefined like JavaScript\n",
    "print(bool(a))\n",
    "a = []\n",
    "print(bool(a))\n",
    "a = ()\n",
    "print(bool(a))\n",
    "a = {}\n",
    "print(bool(a))\n",
    "a = False\n",
    "print(bool(a))"
   ]
  },
  {
   "cell_type": "code",
   "execution_count": 21,
   "metadata": {},
   "outputs": [
    {
     "name": "stdout",
     "output_type": "stream",
     "text": [
      "True\n",
      "True\n",
      "True\n",
      "True\n",
      "True\n",
      "True\n",
      "True\n"
     ]
    }
   ],
   "source": [
    "# True values in python\n",
    "a = \"a\"\n",
    "print(bool(a))\n",
    "a = 2\n",
    "print(bool(a))\n",
    "a = 0.2\n",
    "print(bool(a))\n",
    "a = ['akki']\n",
    "print(bool(a))\n",
    "a = (10.3)\n",
    "print(bool(a))\n",
    "a = {\"a\":1}\n",
    "print(bool(a))\n",
    "a = True\n",
    "print(bool(a))"
   ]
  },
  {
   "cell_type": "code",
   "execution_count": 24,
   "metadata": {},
   "outputs": [
    {
     "name": "stdout",
     "output_type": "stream",
     "text": [
      "10 > 3 True\n",
      "10 < 3 False\n",
      "10 >= 3 True\n",
      "10 <= 3 False\n",
      "10 == 3 False\n",
      "3 == '3' False\n"
     ]
    }
   ],
   "source": [
    "# Relational Op >,<,>=,<=,==\n",
    "\n",
    "print(\"10 > 3\",10>3)\n",
    "print(\"10 < 3\",10<3)\n",
    "print(\"10 >= 3\",10>=3)\n",
    "print(\"10 <= 3\",10<=3)\n",
    "print(\"10 == 3\",10==3)\n",
    "print(\"3 == '3'\",3=='3')"
   ]
  },
  {
   "cell_type": "code",
   "execution_count": 30,
   "metadata": {},
   "outputs": [
    {
     "name": "stdout",
     "output_type": "stream",
     "text": [
      "False\n",
      "True\n",
      "False\n",
      "False\n"
     ]
    }
   ],
   "source": [
    "# Logical Op\n",
    "a = (10>3) and (3>5)\n",
    "print(a)\n",
    "a = (10>3) or (3>5)\n",
    "print(a)\n",
    "a = not(10>3)\n",
    "print(a)\n",
    "a = not((10>3) or (3>5))\n",
    "print(a)"
   ]
  },
  {
   "cell_type": "code",
   "execution_count": 32,
   "metadata": {},
   "outputs": [
    {
     "name": "stdout",
     "output_type": "stream",
     "text": [
      "False\n",
      "False\n"
     ]
    }
   ],
   "source": [
    "# Range Checker\n",
    "marks = 101\n",
    "a = (100>=marks) and (marks>=0)\n",
    "print(a)\n",
    "a = (100>= marks >=0)\n",
    "print(a)"
   ]
  },
  {
   "cell_type": "markdown",
   "metadata": {},
   "source": [
    "**String**"
   ]
  },
  {
   "cell_type": "code",
   "execution_count": 4,
   "metadata": {},
   "outputs": [
    {
     "name": "stdout",
     "output_type": "stream",
     "text": [
      "Hello World <class 'str'>\n",
      "Hello World <class 'str'>\n",
      "The point of using Lorem Ipsum is that it has a more-or-less normal \n",
      "distribution of letters, as opposed to using 'Content here, content here', \n",
      "making it look like readable English. Many desktop publishing packages and web\n",
      "page editors now use Lorem Ipsum as their default model text, and a search for\n",
      "'lorem ipsum' will uncover many web sites still in their infancy. Various versions\n",
      "have evolved over the years, sometimes by accident, sometimes on purpose \n",
      "(injected humour and the like).\n",
      "\n",
      "The point of using Lorem Ipsum is that it has a more-or-less normal \n",
      "distribution of letters, as opposed to using 'Content here, content here', \n",
      "making it look like readable English. Many desktop publishing packages and web\n",
      "page editors now use Lorem Ipsum as their default model text, and a search for\n",
      "'lorem ipsum' will uncover many web sites still in their infancy. Various versions\n",
      "have evolved over the years, sometimes by accident, sometimes on purpose \n",
      "(injected humour and the like).\n"
     ]
    }
   ],
   "source": [
    "x = \"Hello World\"\n",
    "print(x,type(x))\n",
    "x = 'Hello World'\n",
    "print(x,type(x))\n",
    "x = \"\"\"The point of using Lorem Ipsum is that it has a more-or-less normal \n",
    "distribution of letters, as opposed to using 'Content here, content here', \n",
    "making it look like readable English. Many desktop publishing packages and web\n",
    "page editors now use Lorem Ipsum as their default model text, and a search for\n",
    "'lorem ipsum' will uncover many web sites still in their infancy. Various versions\n",
    "have evolved over the years, sometimes by accident, sometimes on purpose \n",
    "(injected humour and the like).\"\"\"\n",
    "print(x)\n",
    "x = '''The point of using Lorem Ipsum is that it has a more-or-less normal \n",
    "distribution of letters, as opposed to using 'Content here, content here', \n",
    "making it look like readable English. Many desktop publishing packages and web\n",
    "page editors now use Lorem Ipsum as their default model text, and a search for\n",
    "'lorem ipsum' will uncover many web sites still in their infancy. Various versions\n",
    "have evolved over the years, sometimes by accident, sometimes on purpose \n",
    "(injected humour and the like).'''\n",
    "print()\n",
    "print(x)"
   ]
  },
  {
   "cell_type": "code",
   "execution_count": 5,
   "metadata": {},
   "outputs": [
    {
     "name": "stdout",
     "output_type": "stream",
     "text": [
      "Length of string x is :  491\n"
     ]
    }
   ],
   "source": [
    "print(\"Length of string x is : \",len(x))"
   ]
  },
  {
   "cell_type": "code",
   "execution_count": 11,
   "metadata": {},
   "outputs": [
    {
     "name": "stdout",
     "output_type": "stream",
     "text": [
      "'Akshay'\n",
      "\"Akshay\"\n",
      "\"Akshay\"\n",
      "'Akshay'\n"
     ]
    }
   ],
   "source": [
    "x=\"'Akshay'\"\n",
    "print(x)\n",
    "x='\"Akshay\"'\n",
    "print(x)\n",
    "x=\"\\\"Akshay\\\"\"\n",
    "print(x)\n",
    "x='\\'Akshay\\''\n",
    "print(x)"
   ]
  },
  {
   "cell_type": "code",
   "execution_count": 17,
   "metadata": {},
   "outputs": [
    {
     "name": "stdout",
     "output_type": "stream",
     "text": [
      "Akshay Soni\n",
      "Akshay 52\n"
     ]
    }
   ],
   "source": [
    "x = \"Akshay\" + \" \" + 'Soni'\n",
    "print(x)\n",
    "a = 2\n",
    "x = \"Akshay\" + \" \" + '5' + str(a)\n",
    "print(x)"
   ]
  },
  {
   "cell_type": "code",
   "execution_count": 19,
   "metadata": {},
   "outputs": [
    {
     "name": "stdout",
     "output_type": "stream",
     "text": [
      "Hello Hello Hello  18\n"
     ]
    }
   ],
   "source": [
    "#Repetation\n",
    "x = \"Hello \" * 3\n",
    "print(x,len(x))"
   ]
  },
  {
   "cell_type": "code",
   "execution_count": 25,
   "metadata": {},
   "outputs": [
    {
     "name": "stdout",
     "output_type": "stream",
     "text": [
      "A\n",
      "True\n",
      "True\n",
      "True\n",
      "i\n"
     ]
    }
   ],
   "source": [
    "x = \"Akshay\" + \" Soni\"\n",
    "# x[0] = 'a'   not possible\n",
    "print(x[0])\n",
    "print(\"Soni\" in x)\n",
    "print(\"y S\" in x)\n",
    "print(\"Sumit\" not in x)\n",
    "print(x[-1])"
   ]
  },
  {
   "cell_type": "code",
   "execution_count": 29,
   "metadata": {},
   "outputs": [
    {
     "name": "stdout",
     "output_type": "stream",
     "text": [
      "Akshay\n",
      "Soni\n",
      "Akshay\n"
     ]
    }
   ],
   "source": [
    "x = \"Akshay Soni\"\n",
    "s1 = slice(0,6)\n",
    "print(x[s1])\n",
    "print(x[7:11])\n",
    "print(x[:6])"
   ]
  },
  {
   "cell_type": "code",
   "execution_count": 36,
   "metadata": {},
   "outputs": [
    {
     "name": "stdout",
     "output_type": "stream",
     "text": [
      "a =  10 b =  6.3 c =  Hello\n",
      "a = 10 b = 6.300000 c = Hello\n",
      "Hello\tworld .....!"
     ]
    }
   ],
   "source": [
    "a = 10\n",
    "b = 6.3\n",
    "c = \"Hello\"\n",
    "print(\"a = \",a,\"b = \",b,\"c = \",c)\n",
    "print(\"a = %d b = %f c = %s\"%(a,b,c))\n",
    "print(c,\"world\",sep = \"\\t\",end = \" .....!\")"
   ]
  },
  {
   "cell_type": "code",
   "execution_count": 39,
   "metadata": {},
   "outputs": [
    {
     "name": "stdout",
     "output_type": "stream",
     "text": [
      "    Python\n"
     ]
    }
   ],
   "source": [
    "print(format(\"Python\",\">10s\"))"
   ]
  },
  {
   "cell_type": "markdown",
   "metadata": {},
   "source": [
    "**String Methods**"
   ]
  },
  {
   "cell_type": "code",
   "execution_count": 41,
   "metadata": {},
   "outputs": [
    {
     "name": "stdout",
     "output_type": "stream",
     "text": [
      "AKSHAY SONI\n",
      "akshay soni\n"
     ]
    }
   ],
   "source": [
    "x = \"Akshay Soni\"\n",
    "print(x.upper())\n",
    "print(x.lower())"
   ]
  },
  {
   "cell_type": "code",
   "execution_count": 50,
   "metadata": {},
   "outputs": [
    {
     "name": "stdout",
     "output_type": "stream",
     "text": [
      "True\n",
      "False\n",
      "True\n",
      "True\n",
      "True\n"
     ]
    }
   ],
   "source": [
    "s = \"abC123\"\n",
    "print(s.isalnum())\n",
    "s = \"Akki1\"\n",
    "print(s.isalpha())\n",
    "s = \"12345\"\n",
    "print(s.isdigit())\n",
    "s = \"AKKI\"\n",
    "print(s.isupper())\n",
    "s = \"akki\"\n",
    "print(s.islower())"
   ]
  },
  {
   "cell_type": "code",
   "execution_count": 61,
   "metadata": {},
   "outputs": [
    {
     "name": "stdout",
     "output_type": "stream",
     "text": [
      "574\n",
      "True\n",
      "True\n",
      "6\n",
      "568\n",
      "4\n"
     ]
    },
    {
     "name": "stdin",
     "output_type": "stream",
     "text": [
      "what to put abcd\n"
     ]
    },
    {
     "name": "stdout",
     "output_type": "stream",
     "text": [
      "Lorem abcd is simply dummy text of the printing and typesetting industry. Lorem abcd has been the industry's standard dummy text ever since the 1500s, when an unknown printer took a galley of type and scrambled it to make a type specimen book. It has survived not only five centuries, but also the leap into electronic typesetting, remaining essentially unchanged. It was popularised in the 1960s with the release of Letraset sheets containing Lorem abcd passages, and more recently with desktop publishing software like Aldus PageMaker including versions of Lorem abcd.\n",
      "\n",
      "Lorem abcd is simply dummy text of the printing and typesetting industry. lorem abcd has been the industry's standard dummy text ever since the 1500s, when an unknown printer took a galley of type and scrambled it to make a type specimen book. it has survived not only five centuries, but also the leap into electronic typesetting, remaining essentially unchanged. it was popularised in the 1960s with the release of letraset sheets containing lorem abcd passages, and more recently with desktop publishing software like aldus pagemaker including versions of lorem abcd.\n",
      "\n",
      "Lorem Abcd Is Simply Dummy Text Of The Printing And Typesetting Industry. Lorem Abcd Has Been The Industry'S Standard Dummy Text Ever Since The 1500S, When An Unknown Printer Took A Galley Of Type And Scrambled It To Make A Type Specimen Book. It Has Survived Not Only Five Centuries, But Also The Leap Into Electronic Typesetting, Remaining Essentially Unchanged. It Was Popularised In The 1960S With The Release Of Letraset Sheets Containing Lorem Abcd Passages, And More Recently With Desktop Publishing Software Like Aldus Pagemaker Including Versions Of Lorem Abcd.\n"
     ]
    }
   ],
   "source": [
    "s = \"Lorem Ipsum is simply dummy text of the printing and typesetting industry. Lorem Ipsum has been the industry's standard dummy text ever since the 1500s, when an unknown printer took a galley of type and scrambled it to make a type specimen book. It has survived not only five centuries, but also the leap into electronic typesetting, remaining essentially unchanged. It was popularised in the 1960s with the release of Letraset sheets containing Lorem Ipsum passages, and more recently with desktop publishing software like Aldus PageMaker including versions of Lorem Ipsum.\"\n",
    "print(len(s))\n",
    "print(s.startswith(\"Lorem\"))\n",
    "print(s.endswith(\"Ipsum.\"))\n",
    "print(s.find(\"Ipsum\"))\n",
    "print(s.rfind(\"Ipsum\"))\n",
    "print(s.count(\"Ipsum\"))\n",
    "s = s.replace(\"Ipsum\",input(\"what to put\"))\n",
    "print(s)\n",
    "s = s.capitalize()\n",
    "print()\n",
    "print(s)\n",
    "s = s.title()\n",
    "print()\n",
    "print(s)"
   ]
  },
  {
   "cell_type": "code",
   "execution_count": 65,
   "metadata": {},
   "outputs": [
    {
     "name": "stdout",
     "output_type": "stream",
     "text": [
      "   ----Hello World----        len 29\n",
      "----Hello World---- len 19\n",
      "Hello World len 11\n"
     ]
    }
   ],
   "source": [
    "s = \"   ----Hello World----       \"\n",
    "print(s,\"len\",len(s))\n",
    "s = s.strip()\n",
    "print(s,\"len\",len(s))\n",
    "s = s.strip(\"-\")\n",
    "print(s,\"len\",len(s))"
   ]
  },
  {
   "cell_type": "code",
   "execution_count": 72,
   "metadata": {},
   "outputs": [
    {
     "name": "stdout",
     "output_type": "stream",
     "text": [
      "|    Hello World    |\n",
      "|Hello World        |\n",
      "|        Hello World|\n"
     ]
    }
   ],
   "source": [
    "print(\"|\",s.center(19),\"|\",sep = \"\")\n",
    "print(\"|\",s.ljust(19),\"|\",sep = \"\")\n",
    "print(\"|\",s.rjust(19),\"|\",sep = \"\")"
   ]
  },
  {
   "cell_type": "markdown",
   "metadata": {},
   "source": [
    "**Number & Number Methods**"
   ]
  },
  {
   "cell_type": "code",
   "execution_count": 3,
   "metadata": {},
   "outputs": [
    {
     "name": "stdout",
     "output_type": "stream",
     "text": [
      "5 <class 'int'>\n",
      "3.24 <class 'float'>\n",
      "(2+3j) <class 'complex'>\n"
     ]
    }
   ],
   "source": [
    "a = 5\n",
    "print(a,type(a))\n",
    "a = 3.24\n",
    "print(a,type(a))\n",
    "a = 2 + 3j\n",
    "print(a,type(a))"
   ]
  },
  {
   "cell_type": "code",
   "execution_count": 6,
   "metadata": {},
   "outputs": [
    {
     "name": "stdout",
     "output_type": "stream",
     "text": [
      "18\n",
      "2.3\n"
     ]
    }
   ],
   "source": [
    "a = max(2,6,12,5,18)\n",
    "print(a)\n",
    "a = min(2.3,6.4,12.11,5.25,18.6)\n",
    "print(a)\n"
   ]
  },
  {
   "cell_type": "code",
   "execution_count": 10,
   "metadata": {},
   "outputs": [
    {
     "name": "stdout",
     "output_type": "stream",
     "text": [
      "3\n",
      "9\n",
      "25\n"
     ]
    }
   ],
   "source": [
    "a = -3\n",
    "print(abs(a))\n",
    "print(pow(3,2))\n",
    "a = 5\n",
    "b = 2\n",
    "print(pow(a,b))"
   ]
  },
  {
   "cell_type": "code",
   "execution_count": 13,
   "metadata": {},
   "outputs": [
    {
     "name": "stdout",
     "output_type": "stream",
     "text": [
      "8\n",
      "7\n",
      "7\n"
     ]
    }
   ],
   "source": [
    "a = 7.5\n",
    "print(round(a))\n",
    "a = 7.3\n",
    "print(round(a))\n",
    "a = 7.025\n",
    "print(round(a))"
   ]
  },
  {
   "cell_type": "code",
   "execution_count": 15,
   "metadata": {},
   "outputs": [
    {
     "name": "stdout",
     "output_type": "stream",
     "text": [
      "3.14\n",
      "2.18\n"
     ]
    }
   ],
   "source": [
    "a = 3.14159\n",
    "print(round(a,2))\n",
    "a = 2.1782\n",
    "print(round(a,2))"
   ]
  },
  {
   "cell_type": "code",
   "execution_count": 27,
   "metadata": {},
   "outputs": [
    {
     "name": "stdout",
     "output_type": "stream",
     "text": [
      "3.141592653589793\n",
      "2.718281828459045\n",
      "4\n",
      "3\n",
      "5.0\n",
      "3.1622776601683795\n"
     ]
    }
   ],
   "source": [
    "import math\n",
    "print(math.pi)\n",
    "print(math.e)\n",
    "print(math.ceil(3.22))\n",
    "print(math.floor(3.62))\n",
    "print(math.fabs(-5))\n",
    "print(math.sqrt(10))"
   ]
  },
  {
   "cell_type": "code",
   "execution_count": 28,
   "metadata": {},
   "outputs": [
    {
     "name": "stdout",
     "output_type": "stream",
     "text": [
      "0.6931471805599453\n"
     ]
    }
   ],
   "source": [
    "print(math.log(2))"
   ]
  },
  {
   "cell_type": "code",
   "execution_count": 30,
   "metadata": {},
   "outputs": [
    {
     "name": "stdout",
     "output_type": "stream",
     "text": [
      "1.0\n"
     ]
    }
   ],
   "source": [
    "print(math.log(3,3))"
   ]
  },
  {
   "cell_type": "code",
   "execution_count": 34,
   "metadata": {},
   "outputs": [
    {
     "name": "stdout",
     "output_type": "stream",
     "text": [
      "1.0\n",
      "1.0\n",
      "1.6197751905438615\n"
     ]
    }
   ],
   "source": [
    "print(math.sin(math.pi/2))\n",
    "print(math.cos(0))\n",
    "print(math.tan(45))"
   ]
  },
  {
   "cell_type": "code",
   "execution_count": 42,
   "metadata": {},
   "outputs": [
    {
     "name": "stdout",
     "output_type": "stream",
     "text": [
      "Simple interest at the end of 2 years is 190.00\n"
     ]
    }
   ],
   "source": [
    "p = 1899.99\n",
    "r = 5\n",
    "t = 2\n",
    "\n",
    "si = (p * r * t)/100\n",
    "#si = round(si,2)\n",
    "print(\"Simple interest at the end of\",t,\"years is\",format(si,\".2f\"))\n",
    "#189.99900000000002 is rounded of"
   ]
  },
  {
   "cell_type": "markdown",
   "metadata": {},
   "source": [
    "**Control Statement**"
   ]
  },
  {
   "cell_type": "code",
   "execution_count": 4,
   "metadata": {},
   "outputs": [
    {
     "name": "stdin",
     "output_type": "stream",
     "text": [
      "Enter a number 0\n"
     ]
    },
    {
     "name": "stdout",
     "output_type": "stream",
     "text": [
      "0 is Zero\n",
      "bye.....\n"
     ]
    }
   ],
   "source": [
    "num = int(input(\"Enter a number\"))\n",
    "if num > 0:\n",
    "    print(num,\"is a positive number\")\n",
    "elif num == 0:\n",
    "    print(num,\"is Zero\")\n",
    "else:\n",
    "    print(num,\"is a negative number\")\n",
    "print(\"bye.....\")"
   ]
  },
  {
   "cell_type": "code",
   "execution_count": 12,
   "metadata": {},
   "outputs": [
    {
     "name": "stdout",
     "output_type": "stream",
     "text": [
      "Grade A\n"
     ]
    }
   ],
   "source": [
    "marks = 81\n",
    "if ((marks >= 0) and (100 >= marks)):\n",
    "#if (100 >= marks >= 0):\n",
    "    if (100 >= marks > 80):\n",
    "        print(\"Grade A\")\n",
    "    elif (80 >= marks > 50):\n",
    "        print(\"Grade B\")\n",
    "    elif (50 >= marks >= 35):\n",
    "        print(\"Grade Pass\")\n",
    "    else:\n",
    "        print (\"Grade Fail\")\n",
    "else:\n",
    "    print(\"Marks are invalid\")"
   ]
  },
  {
   "cell_type": "code",
   "execution_count": 2,
   "metadata": {},
   "outputs": [
    {
     "name": "stdin",
     "output_type": "stream",
     "text": [
      "Enter first number :  12\n",
      "Enter second number :  13\n",
      "Enter Operator :  f\n"
     ]
    },
    {
     "name": "stdout",
     "output_type": "stream",
     "text": [
      "Invalid Operator\n"
     ]
    }
   ],
   "source": [
    "#Calc using if - else\n",
    "a = float(input(\"Enter first number : \"))\n",
    "b = float(input(\"Enter second number : \"))\n",
    "op = input(\"Enter Operator : \")\n",
    "if op == '+':\n",
    "    print(\"Addition of\",a,\"and\",b,\"is\",(a+b))\n",
    "elif op == '-':\n",
    "    print(\"Subtraction of\",a,\"and\",b,\"is\",(a-b))\n",
    "elif op == '*':\n",
    "    print(\"Multiplication of\",a,\"and\",b,\"is\",(a*b))\n",
    "elif op == '/':\n",
    "    print(\"Divison of\",a,\"and\",b,\"is\",(a/b))\n",
    "else:\n",
    "    print(\"Invalid Operator\")"
   ]
  },
  {
   "cell_type": "markdown",
   "metadata": {},
   "source": [
    "**Loops**"
   ]
  },
  {
   "cell_type": "code",
   "execution_count": 7,
   "metadata": {},
   "outputs": [
    {
     "name": "stdout",
     "output_type": "stream",
     "text": [
      "0 1 2 3 4 5 6 7 8 9 \n",
      "------------------------\n",
      "10 9 8 7 6 5 4 3 2 1 end at 0\n"
     ]
    }
   ],
   "source": [
    "i = 0\n",
    "while i < 10:\n",
    "    print(i,end=\" \")\n",
    "    i += 1\n",
    "print(\"\\n------------------------\")\n",
    "while i > 0:\n",
    "    print(i,end=\" \")\n",
    "    i -= 1\n",
    "else:\n",
    "    print(\"end at\",i)"
   ]
  },
  {
   "cell_type": "code",
   "execution_count": 10,
   "metadata": {},
   "outputs": [
    {
     "name": "stdin",
     "output_type": "stream",
     "text": [
      "enter a string 132\n",
      "enter a string akki123\n",
      "enter a string Akshay soni\n"
     ]
    },
    {
     "name": "stdout",
     "output_type": "stream",
     "text": [
      "Akshay soni <class 'str'>\n"
     ]
    }
   ],
   "source": [
    "a = \"123\"\n",
    "#  while not a.isalpha()\n",
    "while a.isalnum() or a.isdigit():\n",
    "    a = input(\"enter a string\")\n",
    "print(a,type(a))"
   ]
  },
  {
   "cell_type": "code",
   "execution_count": 1,
   "metadata": {},
   "outputs": [
    {
     "name": "stdin",
     "output_type": "stream",
     "text": [
      "Enter a number 2\n"
     ]
    },
    {
     "name": "stdout",
     "output_type": "stream",
     "text": [
      "2 is positive\n"
     ]
    },
    {
     "name": "stdin",
     "output_type": "stream",
     "text": [
      "press 'y' to contine and any 'n' to exit g\n",
      "press 'y' to contine and any 'n' to exit n\n"
     ]
    }
   ],
   "source": [
    "keep_repeating = 'y'\n",
    "while keep_repeating.lower() == 'y':\n",
    "    a = int(input(\"Enter a number\"))\n",
    "    if a>0:\n",
    "        print(a,\"is positive\")\n",
    "    elif a<0:\n",
    "        print(a,\"is negative\")\n",
    "    else:\n",
    "        print(a,\"is zero\")\n",
    "    keep_repeating = '2'\n",
    "    while keep_repeating.lower() != 'y' and keep_repeating.lower() != 'n':\n",
    "        keep_repeating = input(\"press 'y' to contine and any 'n' to exit\")"
   ]
  },
  {
   "cell_type": "code",
   "execution_count": 6,
   "metadata": {},
   "outputs": [
    {
     "name": "stdout",
     "output_type": "stream",
     "text": [
      "0 1 2 3 4 5 6 7 8 9 10 END\n",
      "1 3 5 7 9 END 9\n"
     ]
    }
   ],
   "source": [
    "for i in range(0,11,1):\n",
    "    print(i,end=\" \")\n",
    "print(\"END\")\n",
    "for i in range(1,11,2):\n",
    "    print(i,end=\" \")\n",
    "else:\n",
    "    print(\"END\",i)"
   ]
  },
  {
   "cell_type": "code",
   "execution_count": 7,
   "metadata": {},
   "outputs": [
    {
     "name": "stdout",
     "output_type": "stream",
     "text": [
      "10 9 8 7 6 5 4 3 2 1 "
     ]
    }
   ],
   "source": [
    "for i in range(10,0,-1):\n",
    "    print(i,end=\" \")"
   ]
  },
  {
   "cell_type": "code",
   "execution_count": 13,
   "metadata": {},
   "outputs": [
    {
     "name": "stdout",
     "output_type": "stream",
     "text": [
      "0 1 2 3 4 5 6 7 8 9 10 "
     ]
    }
   ],
   "source": [
    "for i in range(0,11):\n",
    "    print(i,end=\" \")"
   ]
  },
  {
   "cell_type": "code",
   "execution_count": 16,
   "metadata": {},
   "outputs": [
    {
     "name": "stdout",
     "output_type": "stream",
     "text": [
      "0 1 2 3 4 5 6 7 8 9 10 "
     ]
    }
   ],
   "source": [
    "for i in range(11):\n",
    "    print(i,end=\" \")"
   ]
  },
  {
   "cell_type": "code",
   "execution_count": 18,
   "metadata": {},
   "outputs": [
    {
     "name": "stdout",
     "output_type": "stream",
     "text": [
      "Akshay Soni"
     ]
    }
   ],
   "source": [
    "for i in \"Akshay Soni\":\n",
    "    print(i,end=\"\")"
   ]
  },
  {
   "cell_type": "code",
   "execution_count": 20,
   "metadata": {},
   "outputs": [
    {
     "name": "stdout",
     "output_type": "stream",
     "text": [
      "21\n",
      "34\n",
      "62\n",
      "Akshay\n"
     ]
    }
   ],
   "source": [
    "for i in [21,34,62,\"Akshay\"]:\n",
    "    print(i)"
   ]
  },
  {
   "cell_type": "code",
   "execution_count": 23,
   "metadata": {},
   "outputs": [
    {
     "name": "stdout",
     "output_type": "stream",
     "text": [
      "1 2 3 4 5 6 7 8 9 10 \n",
      "-------------------\n",
      "1 2 3 4 5 6 7 8 9 "
     ]
    }
   ],
   "source": [
    "for i in range(1,21):\n",
    "    print(i,end=\" \")\n",
    "    if i == 10:\n",
    "        break\n",
    "print(\"\\n-------------------\")\n",
    "for i in range(1,21):\n",
    "    if i == 10:\n",
    "        break\n",
    "    print(i,end=\" \")"
   ]
  },
  {
   "cell_type": "code",
   "execution_count": 24,
   "metadata": {},
   "outputs": [
    {
     "name": "stdout",
     "output_type": "stream",
     "text": [
      "1 2 3 4 5 6 7 8 9 10 11 12 13 14 15 16 17 18 19 20 \n",
      "-------------------\n",
      "1 2 3 4 5 6 7 8 9 11 12 13 14 15 16 17 18 19 20 "
     ]
    }
   ],
   "source": [
    "for i in range(1,21):\n",
    "    print(i,end=\" \")\n",
    "    if i == 10:\n",
    "        continue\n",
    "print(\"\\n-------------------\")\n",
    "for i in range(1,21):\n",
    "    if i == 10:\n",
    "        continue\n",
    "    print(i,end=\" \")"
   ]
  },
  {
   "cell_type": "code",
   "execution_count": 29,
   "metadata": {},
   "outputs": [
    {
     "name": "stdout",
     "output_type": "stream",
     "text": [
      "END\n",
      "\n",
      "------------------------\n",
      "1 2 3 4 5 6 7 8 9 14 15 16 17 18 19 20 "
     ]
    }
   ],
   "source": [
    "for i in range(1,21):\n",
    "    if i>9 or i<14:\n",
    "        continue\n",
    "    print(i,end=\" \")\n",
    "else:\n",
    "    print(\"END\")\n",
    "print(\"\\n------------------------\")\n",
    "for i in range(1,21):\n",
    "    #if i>9 and i<14:\n",
    "    if 14>i>9:\n",
    "        continue\n",
    "    print(i,end=\" \")"
   ]
  },
  {
   "cell_type": "code",
   "execution_count": 30,
   "metadata": {},
   "outputs": [
    {
     "name": "stdout",
     "output_type": "stream",
     "text": [
      "1 1\n",
      "1 2\n",
      "1 3\n",
      "1 4\n",
      "2 1\n",
      "2 2\n",
      "2 3\n",
      "2 4\n",
      "3 1\n",
      "3 2\n",
      "3 3\n",
      "3 4\n",
      "4 1\n",
      "4 2\n",
      "4 3\n",
      "4 4\n"
     ]
    }
   ],
   "source": [
    "for i in range(1,5):\n",
    "    for j in range(1,5):\n",
    "        print(i,j)"
   ]
  },
  {
   "cell_type": "code",
   "execution_count": 31,
   "metadata": {},
   "outputs": [
    {
     "name": "stdout",
     "output_type": "stream",
     "text": [
      "1 1\n",
      "1 2\n",
      "1 3\n",
      "1 4\n",
      "2 1\n",
      "2 2\n",
      "2 3\n",
      "2 4\n"
     ]
    }
   ],
   "source": [
    "for i in range(1,5):\n",
    "    if i == 3:\n",
    "        break\n",
    "    for j in range(1,5):\n",
    "        print(i,j)"
   ]
  },
  {
   "cell_type": "code",
   "execution_count": 33,
   "metadata": {},
   "outputs": [
    {
     "name": "stdout",
     "output_type": "stream",
     "text": [
      "*\n",
      "**\n",
      "***\n",
      "****\n",
      "*****\n",
      "--------------------\n",
      "1\n",
      "22\n",
      "333\n",
      "4444\n",
      "55555\n"
     ]
    }
   ],
   "source": [
    "for i in range(1,6):\n",
    "    print(\"*\" * i)\n",
    "print(\"--------------------\")\n",
    "for i in range(1,6):\n",
    "    print(str(i) * i)"
   ]
  },
  {
   "cell_type": "markdown",
   "metadata": {},
   "source": [
    "**User defined functions**"
   ]
  },
  {
   "cell_type": "code",
   "execution_count": 5,
   "metadata": {},
   "outputs": [
    {
     "name": "stdout",
     "output_type": "stream",
     "text": [
      "UDF.....\n",
      "Hello World\n",
      "Hello World\n",
      "None\n",
      "-----------------------\n",
      "Hello World.....2\n",
      "Hello World.....2\n",
      "UDF2\n"
     ]
    }
   ],
   "source": [
    "def display():\n",
    "    print(\"Hello World\")\n",
    "\n",
    "def display2():\n",
    "    print(\"Hello World.....2\")\n",
    "    return \"UDF2\"\n",
    "\n",
    "print(\"UDF.....\")\n",
    "display()\n",
    "#print(display())\n",
    "a = display()\n",
    "print(a)\n",
    "print(\"-----------------------\")\n",
    "display2()\n",
    "#print(display2())\n",
    "a = display2()\n",
    "print(a)"
   ]
  },
  {
   "cell_type": "code",
   "execution_count": 7,
   "metadata": {},
   "outputs": [
    {
     "name": "stdout",
     "output_type": "stream",
     "text": [
      "MINOR\n",
      "ADULT\n",
      "None\n"
     ]
    }
   ],
   "source": [
    "def ageCheck(age):\n",
    "    if age>18:\n",
    "        print(\"ADULT\")\n",
    "    else:\n",
    "        return \"MINOR\"\n",
    "\n",
    "p = ageCheck(10)\n",
    "print(p)\n",
    "p = ageCheck(19)\n",
    "print(p)"
   ]
  },
  {
   "cell_type": "code",
   "execution_count": 3,
   "metadata": {},
   "outputs": [
    {
     "name": "stdin",
     "output_type": "stream",
     "text": [
      "Enter your age 12\n"
     ]
    },
    {
     "name": "stdout",
     "output_type": "stream",
     "text": [
      "<class 'int'>\n",
      "MINOR\n",
      "<class 'str'>\n",
      "ERROR : must be a number\n",
      "<class 'int'>\n",
      "MINOR\n"
     ]
    }
   ],
   "source": [
    "def ageChecker(age = 0):\n",
    "    ty = str(type(age)) # local variable\n",
    "    print(ty)\n",
    "    if 'int' in ty:\n",
    "        if age > 18:\n",
    "            return \"ADULT\"\n",
    "        else:\n",
    "            return \"MINOR\"\n",
    "    else:\n",
    "        return \"ERROR : must be a number\"\n",
    "\n",
    "p = ageChecker(int(input(\"Enter your age\")))\n",
    "print(p)\n",
    "p = ageChecker(\"a\")\n",
    "print(p)\n",
    "p = ageChecker()\n",
    "print(p)"
   ]
  },
  {
   "cell_type": "code",
   "execution_count": 6,
   "metadata": {},
   "outputs": [
    {
     "name": "stdout",
     "output_type": "stream",
     "text": [
      "a = 10 b = 20\n",
      "30\n",
      "a = 20 b = 0\n",
      "0\n",
      "a = 0 b = 0\n",
      "0\n",
      "a = 0 b = 25\n",
      "0\n",
      "a = 20 b = 30\n",
      "50\n"
     ]
    }
   ],
   "source": [
    "#default value parameter\n",
    "def addition(a = 0,b = 0):\n",
    "    if a>0 and b>0:\n",
    "        print(\"a =\",a,\"b =\",b)\n",
    "        return a+b\n",
    "    else:\n",
    "        print(\"a =\",a,\"b =\",b)\n",
    "        return 0\n",
    "\n",
    "p = addition(10,20)\n",
    "print(p)\n",
    "p = addition(20)\n",
    "print(p)\n",
    "p = addition()\n",
    "print(p)\n",
    "p = addition(b=25)\n",
    "print(p)\n",
    "p = addition(b = 30,a = 20)\n",
    "print(p)"
   ]
  },
  {
   "cell_type": "code",
   "execution_count": 13,
   "metadata": {},
   "outputs": [
    {
     "name": "stdout",
     "output_type": "stream",
     "text": [
      "a = 10 b = 21 c = 45\n",
      "a = 12 b = 10 c = 25\n",
      "a = 10 b = 13 c = 25\n",
      "a = 0 b = 13 c = 25\n"
     ]
    }
   ],
   "source": [
    "def display(a=0,b=0,c=0):\n",
    "    print(\"a =\",a,\"b =\",b,\"c =\",c)\n",
    "\n",
    "display(10,21,45)\n",
    "display(c = 25,b = 10,a = 12)\n",
    "display(10,c=25,b=13)\n",
    "display(c=25,b=13)"
   ]
  },
  {
   "cell_type": "code",
   "execution_count": 16,
   "metadata": {},
   "outputs": [
    {
     "name": "stdout",
     "output_type": "stream",
     "text": [
      "+-------------+\n",
      "| Akshay Soni |\n",
      "+-------------+\n",
      "+------+\n",
      "| Java |\n",
      "+------+\n",
      "+--------+\n",
      "| Python |\n",
      "+--------+\n"
     ]
    }
   ],
   "source": [
    "\"\"\"\n",
    "\n",
    "+--------+\n",
    "| Akshay |\n",
    "+--------+\n",
    "\n",
    "\"\"\"\n",
    "def customPrint(message):\n",
    "    print(\"+\",end=\"\")\n",
    "    for i in range(0,len(message)+2):\n",
    "        print(\"-\",end=\"\")\n",
    "    print(\"+\")\n",
    "    print(\"|\",message,\"|\")\n",
    "    print(\"+\",end=\"\")\n",
    "    for i in range(0,len(message)+2):\n",
    "        print(\"-\",end=\"\")\n",
    "    print(\"+\")\n",
    "\n",
    "customPrint(\"Akshay Soni\")\n",
    "customPrint(\"Java\")\n",
    "customPrint(\"Python\")"
   ]
  },
  {
   "cell_type": "code",
   "execution_count": 17,
   "metadata": {},
   "outputs": [
    {
     "name": "stdout",
     "output_type": "stream",
     "text": [
      "6\n"
     ]
    }
   ],
   "source": [
    "\"\"\"\n",
    "def mul(a,b):\n",
    "    return a*b\n",
    "\"\"\"\n",
    "\n",
    "x = lambda a,b : a*b\n",
    "print(x(2,3)"
   ]
  },
  {
   "cell_type": "code",
   "execution_count": 18,
   "metadata": {},
   "outputs": [
    {
     "name": "stdin",
     "output_type": "stream",
     "text": [
      "Enter first number 12\n",
      "Enter second number 13\n",
      "Enter op [+,-,*,/] j\n",
      "Enter op [+,-,*,/] +\n"
     ]
    },
    {
     "name": "stdout",
     "output_type": "stream",
     "text": [
      "25\n"
     ]
    },
    {
     "name": "stdin",
     "output_type": "stream",
     "text": [
      "Press 'y' to continue 'n' to exit h\n",
      "Press 'y' to continue 'n' to exit y\n",
      "Enter first number 10\n",
      "Enter second number 2\n",
      "Enter op [+,-,*,/] *\n"
     ]
    },
    {
     "name": "stdout",
     "output_type": "stream",
     "text": [
      "20\n"
     ]
    },
    {
     "name": "stdin",
     "output_type": "stream",
     "text": [
      "Press 'y' to continue 'n' to exit n\n"
     ]
    }
   ],
   "source": [
    "add = lambda a,b : a+b\n",
    "sub = lambda a,b : a-b\n",
    "mul = lambda a,b : a*b\n",
    "div = lambda a,b : a/b\n",
    "\n",
    "def Calc():\n",
    "    keep_repeating = 'y'\n",
    "    while keep_repeating.lower() == 'y':\n",
    "        x = int(input(\"Enter first number\"))\n",
    "        y = int(input(\"Enter second number\"))\n",
    "        op = input(\"Enter op [+,-,*,/]\")\n",
    "\n",
    "        while (op != '+' and op != '-' and op != '*' and op != '/'):\n",
    "            op = input(\"Enter op [+,-,*,/]\")\n",
    "\n",
    "        if op == '+':\n",
    "            print(add(x,y))\n",
    "        elif op == \"-\":\n",
    "            print(sub(x,y))\n",
    "        elif op == \"*\":\n",
    "            print(mul(x,y))\n",
    "        else:\n",
    "            print(div(x,y))\n",
    "        \n",
    "        keep_repeating = input(\"Press 'y' to continue 'n' to exit\")\n",
    "        while keep_repeating.lower() != 'y' and keep_repeating.lower() != 'n':\n",
    "            keep_repeating = input(\"Press 'y' to continue 'n' to exit\")\n",
    "\n",
    "\n",
    "def main():\n",
    "    Calc()\n",
    "    \n",
    "main()"
   ]
  },
  {
   "cell_type": "markdown",
   "metadata": {},
   "source": [
    "**List**"
   ]
  },
  {
   "cell_type": "code",
   "execution_count": 1,
   "metadata": {},
   "outputs": [
    {
     "name": "stdout",
     "output_type": "stream",
     "text": [
      "[] <class 'list'>\n"
     ]
    }
   ],
   "source": [
    "a = []\n",
    "print(a,type(a))"
   ]
  },
  {
   "cell_type": "code",
   "execution_count": 2,
   "metadata": {},
   "outputs": [
    {
     "name": "stdout",
     "output_type": "stream",
     "text": [
      "[1, 2, 3]\n"
     ]
    }
   ],
   "source": [
    "a = [1,2,3]\n",
    "print(a)"
   ]
  },
  {
   "cell_type": "code",
   "execution_count": 3,
   "metadata": {},
   "outputs": [
    {
     "name": "stdout",
     "output_type": "stream",
     "text": [
      "['Akshay', 3.14, 25]\n"
     ]
    }
   ],
   "source": [
    "a = [\"Akshay\",3.14,25]\n",
    "print(a)"
   ]
  },
  {
   "cell_type": "code",
   "execution_count": 6,
   "metadata": {},
   "outputs": [
    {
     "name": "stdout",
     "output_type": "stream",
     "text": [
      "[]\n",
      "[1, 2, 3]\n",
      "['A', 'k', 's', 'h', 'a', 'y']\n"
     ]
    }
   ],
   "source": [
    "list1 = list()\n",
    "print(list1)\n",
    "list1 = list([1,2,3])\n",
    "print(list1)\n",
    "list1 = list(\"Akshay\")\n",
    "print(list1)"
   ]
  },
  {
   "cell_type": "code",
   "execution_count": 8,
   "metadata": {},
   "outputs": [
    {
     "name": "stdout",
     "output_type": "stream",
     "text": [
      "[[1, 2, 3], ['a', 'b', 'c']]\n"
     ]
    }
   ],
   "source": [
    "list1 = list([1,2,3])\n",
    "list2 = ['a','b','c']\n",
    "#a = [[1,2,3],['a','b','c']]\n",
    "a =[list1,list2]\n",
    "print(a)"
   ]
  },
  {
   "cell_type": "code",
   "execution_count": 10,
   "metadata": {},
   "outputs": [
    {
     "name": "stdout",
     "output_type": "stream",
     "text": [
      "[0, 1, 2, 3, 4, 5, 6, 7, 8, 9, 10]\n",
      "[1, 3, 5, 7, 9]\n"
     ]
    }
   ],
   "source": [
    "a = list(range(11))\n",
    "print(a)\n",
    "a = list(range(1,11,2))\n",
    "print(a)"
   ]
  },
  {
   "cell_type": "code",
   "execution_count": 11,
   "metadata": {},
   "outputs": [
    {
     "name": "stdout",
     "output_type": "stream",
     "text": [
      "[1, 3, 5, 7, 9] 5\n"
     ]
    }
   ],
   "source": [
    "a = list(range(1,11,2))\n",
    "print(a,len(a))"
   ]
  },
  {
   "cell_type": "code",
   "execution_count": 12,
   "metadata": {},
   "outputs": [
    {
     "name": "stdout",
     "output_type": "stream",
     "text": [
      "[1, 3, 5, 7, 9] Sum = 25\n"
     ]
    }
   ],
   "source": [
    "a = list(range(1,11,2))\n",
    "print(a,\"Sum =\",sum(a))"
   ]
  },
  {
   "cell_type": "code",
   "execution_count": 13,
   "metadata": {},
   "outputs": [
    {
     "name": "stdout",
     "output_type": "stream",
     "text": [
      "[1, 3, 5, 7, 9] Max is 9\n",
      "[1, 3, 5, 7, 9] Min is 1\n"
     ]
    }
   ],
   "source": [
    "a = list(range(1,11,2))\n",
    "print(a,\"Max is\",max(a))\n",
    "a = list(range(1,11,2))\n",
    "print(a,\"Min is\",min(a))"
   ]
  },
  {
   "cell_type": "code",
   "execution_count": 15,
   "metadata": {},
   "outputs": [
    {
     "name": "stdout",
     "output_type": "stream",
     "text": [
      "1\n"
     ]
    },
    {
     "ename": "IndexError",
     "evalue": "list index out of range",
     "output_type": "error",
     "traceback": [
      "\u001b[1;31m---------------------------------------------------------------------------\u001b[0m",
      "\u001b[1;31mIndexError\u001b[0m                                Traceback (most recent call last)",
      "\u001b[1;32m<ipython-input-15-0ea69a6fe648>\u001b[0m in \u001b[0;36m<module>\u001b[1;34m\u001b[0m\n\u001b[0;32m      1\u001b[0m \u001b[0ma\u001b[0m \u001b[1;33m=\u001b[0m \u001b[0mlist\u001b[0m\u001b[1;33m(\u001b[0m\u001b[0mrange\u001b[0m\u001b[1;33m(\u001b[0m\u001b[1;36m1\u001b[0m\u001b[1;33m,\u001b[0m\u001b[1;36m11\u001b[0m\u001b[1;33m,\u001b[0m\u001b[1;36m2\u001b[0m\u001b[1;33m)\u001b[0m\u001b[1;33m)\u001b[0m\u001b[1;33m\u001b[0m\u001b[1;33m\u001b[0m\u001b[0m\n\u001b[0;32m      2\u001b[0m \u001b[0mprint\u001b[0m\u001b[1;33m(\u001b[0m\u001b[0ma\u001b[0m\u001b[1;33m[\u001b[0m\u001b[1;36m0\u001b[0m\u001b[1;33m]\u001b[0m\u001b[1;33m)\u001b[0m\u001b[1;33m\u001b[0m\u001b[1;33m\u001b[0m\u001b[0m\n\u001b[1;32m----> 3\u001b[1;33m \u001b[0mprint\u001b[0m\u001b[1;33m(\u001b[0m\u001b[0ma\u001b[0m\u001b[1;33m[\u001b[0m\u001b[1;36m5\u001b[0m\u001b[1;33m]\u001b[0m\u001b[1;33m)\u001b[0m\u001b[1;33m\u001b[0m\u001b[1;33m\u001b[0m\u001b[0m\n\u001b[0m",
      "\u001b[1;31mIndexError\u001b[0m: list index out of range"
     ]
    }
   ],
   "source": [
    "a = list(range(1,11,2))\n",
    "print(a[0])\n",
    "print(a[5])"
   ]
  },
  {
   "cell_type": "code",
   "execution_count": 17,
   "metadata": {},
   "outputs": [
    {
     "name": "stdout",
     "output_type": "stream",
     "text": [
      "['Java', 'CPP', 'Python'] 2844584474696\n",
      "['Java', 'JS', 'Python'] 2844584474696\n"
     ]
    }
   ],
   "source": [
    "list1 = ['Java','CPP','Python']\n",
    "print(list1,id(list1))\n",
    "list1[1] = 'JS'\n",
    "print(list1,id(list1))"
   ]
  },
  {
   "cell_type": "code",
   "execution_count": 19,
   "metadata": {},
   "outputs": [
    {
     "name": "stdout",
     "output_type": "stream",
     "text": [
      "1\n",
      "3\n",
      "5\n",
      "7\n",
      "9\n",
      "[1, 3, 5, 7, 9]\n"
     ]
    }
   ],
   "source": [
    "a = list(range(1,11,2))\n",
    "for i in a:\n",
    "    print(i)\n",
    "for i in a:\n",
    "    i += 1\n",
    "print(a)"
   ]
  },
  {
   "cell_type": "code",
   "execution_count": 22,
   "metadata": {},
   "outputs": [
    {
     "name": "stdout",
     "output_type": "stream",
     "text": [
      "[3, 5, 7]\n",
      "[1, 3, 5, 7]\n",
      "[5, 7, 9]\n"
     ]
    }
   ],
   "source": [
    "a = [1,3,5,7,9]\n",
    "print(a[1:4])\n",
    "print(a[:4])\n",
    "print(a[2:])"
   ]
  },
  {
   "cell_type": "code",
   "execution_count": 24,
   "metadata": {},
   "outputs": [
    {
     "name": "stdout",
     "output_type": "stream",
     "text": [
      "True\n",
      "True\n"
     ]
    }
   ],
   "source": [
    "list1 = ['Java','CPP','Python']\n",
    "a = 'CPP' in list1\n",
    "print(a)\n",
    "a = 'JS' not in list1\n",
    "print(a)"
   ]
  },
  {
   "cell_type": "code",
   "execution_count": 25,
   "metadata": {},
   "outputs": [
    {
     "name": "stdout",
     "output_type": "stream",
     "text": [
      "[1, 3, 5, 2, 4, 6]\n"
     ]
    }
   ],
   "source": [
    "a = [1,3,5]\n",
    "b = [2,4,6]\n",
    "c = a + b\n",
    "print(c)"
   ]
  },
  {
   "cell_type": "code",
   "execution_count": 26,
   "metadata": {},
   "outputs": [
    {
     "name": "stdout",
     "output_type": "stream",
     "text": [
      "[1, 3, 5, 2, 4, 6]\n"
     ]
    }
   ],
   "source": [
    "a = [1,3,5]\n",
    "b = [2,4,6]\n",
    "#a = a + b\n",
    "a += b\n",
    "print(a)"
   ]
  },
  {
   "cell_type": "code",
   "execution_count": 28,
   "metadata": {},
   "outputs": [
    {
     "name": "stdout",
     "output_type": "stream",
     "text": [
      "[1, 2, 1, 2, 1, 2, 1, 2]\n",
      "[1, 2, 1, 2, 1, 2, 1, 2]\n"
     ]
    }
   ],
   "source": [
    "a = [1,2]\n",
    "b = a * 4\n",
    "print(b)\n",
    "#a = a * 4\n",
    "a *= 4\n",
    "print(a)"
   ]
  },
  {
   "cell_type": "code",
   "execution_count": 29,
   "metadata": {},
   "outputs": [
    {
     "name": "stdout",
     "output_type": "stream",
     "text": [
      "[1, 4, 9, 16, 25]\n"
     ]
    }
   ],
   "source": [
    "#list comprehension\n",
    "a = [i**2 for i in range(1,6)]\n",
    "print(a)"
   ]
  },
  {
   "cell_type": "code",
   "execution_count": 30,
   "metadata": {},
   "outputs": [
    {
     "name": "stdout",
     "output_type": "stream",
     "text": [
      "[2, 4, 6, 8, 10]\n"
     ]
    }
   ],
   "source": [
    "a = [i for i in range(1,11) if i % 2 == 0]\n",
    "print(a)"
   ]
  },
  {
   "cell_type": "code",
   "execution_count": 31,
   "metadata": {},
   "outputs": [
    {
     "name": "stdout",
     "output_type": "stream",
     "text": [
      "[1, 6, 7, 5, 10]\n"
     ]
    }
   ],
   "source": [
    "a = [1,6,7,5]\n",
    "a.append(10)\n",
    "print(a)"
   ]
  },
  {
   "cell_type": "code",
   "execution_count": 32,
   "metadata": {},
   "outputs": [
    {
     "name": "stdout",
     "output_type": "stream",
     "text": [
      "[1, 6, 10, 7, 5]\n"
     ]
    }
   ],
   "source": [
    "a = [1,6,7,5]\n",
    "a.insert(2,10)\n",
    "print(a)"
   ]
  },
  {
   "cell_type": "code",
   "execution_count": 34,
   "metadata": {},
   "outputs": [
    {
     "name": "stdout",
     "output_type": "stream",
     "text": [
      "1\n",
      "1\n"
     ]
    }
   ],
   "source": [
    "a = [1,3,5,7,9,1,3]\n",
    "print(a.index(3))\n",
    "a = ['Java','Python',\"CPP\",'Python']\n",
    "print(a.index('Python'))"
   ]
  },
  {
   "cell_type": "code",
   "execution_count": 35,
   "metadata": {},
   "outputs": [
    {
     "name": "stdout",
     "output_type": "stream",
     "text": [
      "['Java', 'CPP', 'Python']\n"
     ]
    }
   ],
   "source": [
    "a = ['Java','Python',\"CPP\",'Python']\n",
    "a.remove('Python')\n",
    "print(a)"
   ]
  },
  {
   "cell_type": "code",
   "execution_count": 36,
   "metadata": {},
   "outputs": [
    {
     "name": "stdout",
     "output_type": "stream",
     "text": [
      "2\n"
     ]
    }
   ],
   "source": [
    "a = ['Java','Python',\"CPP\",'Python']\n",
    "print(a.count('Python'))"
   ]
  },
  {
   "cell_type": "code",
   "execution_count": 37,
   "metadata": {},
   "outputs": [
    {
     "name": "stdout",
     "output_type": "stream",
     "text": [
      "['Java', 'Python', 'CPP', 'Python']\n",
      "[]\n"
     ]
    }
   ],
   "source": [
    "a = ['Java','Python',\"CPP\",'Python']\n",
    "print(a)\n",
    "a.clear()\n",
    "print(a)"
   ]
  },
  {
   "cell_type": "code",
   "execution_count": 40,
   "metadata": {},
   "outputs": [
    {
     "name": "stdout",
     "output_type": "stream",
     "text": [
      "[12, -5, 14, 2, -11, 20]\n",
      "[-11, -5, 2, 12, 14, 20]\n",
      "['float', 'int', 'list', 'str']\n"
     ]
    }
   ],
   "source": [
    "a = [12,-5,14,2,-11,20]\n",
    "print(a)\n",
    "a.sort()\n",
    "print(a)\n",
    "a = ['str','int','float','list']\n",
    "a.sort()\n",
    "print(a)"
   ]
  },
  {
   "cell_type": "code",
   "execution_count": 42,
   "metadata": {},
   "outputs": [
    {
     "name": "stdout",
     "output_type": "stream",
     "text": [
      "[12, -5, 14, 2, -11, 20]\n",
      "[20, -11, 2, 14, -5, 12]\n",
      "[20, 14, 12, 2, -5, -11]\n"
     ]
    }
   ],
   "source": [
    "a = [12,-5,14,2,-11,20]\n",
    "print(a)\n",
    "a.reverse()\n",
    "print(a)\n",
    "#descending sort\n",
    "a.sort()\n",
    "a.reverse()\n",
    "print(a)"
   ]
  },
  {
   "cell_type": "code",
   "execution_count": 45,
   "metadata": {},
   "outputs": [
    {
     "name": "stdout",
     "output_type": "stream",
     "text": [
      "[1, 2, 3, 4, 1]\n"
     ]
    }
   ],
   "source": [
    "a = [1,2,3,4,1,3]\n",
    "#print(a.pop(5))\n",
    "a.pop(5)\n",
    "print(a)"
   ]
  },
  {
   "cell_type": "markdown",
   "metadata": {},
   "source": [
    "**Tuples**"
   ]
  },
  {
   "cell_type": "code",
   "execution_count": 4,
   "metadata": {},
   "outputs": [
    {
     "name": "stdout",
     "output_type": "stream",
     "text": [
      "() <class 'tuple'>\n",
      "('Akshay',) <class 'tuple'>\n",
      "('Akshay', 'Soni') <class 'tuple'>\n"
     ]
    }
   ],
   "source": [
    "a = ()\n",
    "print(a,type(a))\n",
    "a = ('Akshay',)\n",
    "print(a,type(a))\n",
    "a= ('Akshay','Soni')\n",
    "print(a,type(a))"
   ]
  },
  {
   "cell_type": "code",
   "execution_count": 5,
   "metadata": {},
   "outputs": [
    {
     "name": "stdout",
     "output_type": "stream",
     "text": [
      "('A', 'k', 's', 'h', 'a', 'y')\n"
     ]
    }
   ],
   "source": [
    "a = tuple(\"Akshay\")\n",
    "print(a)"
   ]
  },
  {
   "cell_type": "code",
   "execution_count": 6,
   "metadata": {},
   "outputs": [
    {
     "name": "stdout",
     "output_type": "stream",
     "text": [
      "(1, 2, 3, 4)\n"
     ]
    }
   ],
   "source": [
    "b = [1,2,3,4]\n",
    "a = tuple(b)\n",
    "print(a)"
   ]
  },
  {
   "cell_type": "code",
   "execution_count": 7,
   "metadata": {},
   "outputs": [
    {
     "name": "stdout",
     "output_type": "stream",
     "text": [
      "(0, 1, 2, 3, 4, 5, 6, 7, 8, 9)\n"
     ]
    }
   ],
   "source": [
    "a = tuple(range(10))\n",
    "print(a)"
   ]
  },
  {
   "cell_type": "code",
   "execution_count": 8,
   "metadata": {},
   "outputs": [
    {
     "name": "stdout",
     "output_type": "stream",
     "text": [
      "(2, 4, 6, 8, 10, 12, 14, 16, 18, 20)\n"
     ]
    }
   ],
   "source": [
    "a = tuple([i * 2 for i in range(1,11)])\n",
    "print(a)"
   ]
  },
  {
   "cell_type": "code",
   "execution_count": 10,
   "metadata": {},
   "outputs": [
    {
     "name": "stdout",
     "output_type": "stream",
     "text": [
      "a  1 b  2 c  Akshay\n"
     ]
    }
   ],
   "source": [
    "#tuple unpacking\n",
    "a,b,c = (1,2,'Akshay')\n",
    "print(\"a \",a,\"b \",b,\"c \",c)"
   ]
  },
  {
   "cell_type": "code",
   "execution_count": 11,
   "metadata": {},
   "outputs": [
    {
     "name": "stdout",
     "output_type": "stream",
     "text": [
      "[1, 2, 'Akshay']\n"
     ]
    }
   ],
   "source": [
    "a = (1,2,'Akshay')\n",
    "b = list(a)\n",
    "print(b)"
   ]
  },
  {
   "cell_type": "code",
   "execution_count": 15,
   "metadata": {},
   "outputs": [
    {
     "name": "stdout",
     "output_type": "stream",
     "text": [
      "Akshay\n",
      "('Akshay', 3, 4)\n"
     ]
    }
   ],
   "source": [
    "a = (1,2,'Akshay',3,4)\n",
    "#a[2] = 'hello' not possible\n",
    "print(a[2])\n",
    "print(a[2:])"
   ]
  },
  {
   "cell_type": "code",
   "execution_count": 17,
   "metadata": {},
   "outputs": [
    {
     "name": "stdout",
     "output_type": "stream",
     "text": [
      "True\n",
      "True\n"
     ]
    }
   ],
   "source": [
    "a = ('Java','Python','CPP')\n",
    "print('Java' in a)\n",
    "print('SQL' not in a)"
   ]
  },
  {
   "cell_type": "code",
   "execution_count": 20,
   "metadata": {},
   "outputs": [
    {
     "name": "stdout",
     "output_type": "stream",
     "text": [
      "5\n",
      "14\n",
      "4\n",
      "1\n",
      "2\n"
     ]
    }
   ],
   "source": [
    "a = (1,2,3,4,4)\n",
    "print(len(a))\n",
    "print(sum(a))\n",
    "print(max(a))\n",
    "print(min(a))\n",
    "print(a.count(4))"
   ]
  },
  {
   "cell_type": "code",
   "execution_count": 24,
   "metadata": {},
   "outputs": [
    {
     "name": "stdout",
     "output_type": "stream",
     "text": [
      "1 2 3 4 4 \n",
      "(1, 2, 3, 4, 4, 1, 2, 3, 4, 4)\n",
      "(1, 2, 3, 4, 4, 500, 600)\n"
     ]
    }
   ],
   "source": [
    "a = (1,2,3,4,4)\n",
    "for i in a:\n",
    "    print(i,end=\" \")\n",
    "b = a*2\n",
    "print()\n",
    "print(b)\n",
    "a = (1,2,3,4,4)\n",
    "b = (500,600)\n",
    "c = a + b\n",
    "print(c)"
   ]
  },
  {
   "cell_type": "markdown",
   "metadata": {},
   "source": [
    "**Set**"
   ]
  },
  {
   "cell_type": "code",
   "execution_count": 25,
   "metadata": {},
   "outputs": [
    {
     "name": "stdout",
     "output_type": "stream",
     "text": [
      "{} <class 'dict'>\n"
     ]
    }
   ],
   "source": [
    "a = {}\n",
    "print(a,type(a))"
   ]
  },
  {
   "cell_type": "code",
   "execution_count": 26,
   "metadata": {},
   "outputs": [
    {
     "name": "stdout",
     "output_type": "stream",
     "text": [
      "{1, 2, 3} <class 'set'>\n"
     ]
    }
   ],
   "source": [
    "a = {1,2,3}\n",
    "print(a,type(a))"
   ]
  },
  {
   "cell_type": "code",
   "execution_count": 27,
   "metadata": {},
   "outputs": [
    {
     "name": "stdout",
     "output_type": "stream",
     "text": [
      "{'alpha', 2, 3.14}\n"
     ]
    }
   ],
   "source": [
    "a = {2,'alpha',3.14}\n",
    "print(a)"
   ]
  },
  {
   "cell_type": "code",
   "execution_count": 28,
   "metadata": {},
   "outputs": [
    {
     "name": "stdout",
     "output_type": "stream",
     "text": [
      "{'k', 's', 'a', 'y', 'h'}\n"
     ]
    }
   ],
   "source": [
    "a = set(\"akshay\")\n",
    "print(a)"
   ]
  },
  {
   "cell_type": "code",
   "execution_count": 29,
   "metadata": {},
   "outputs": [
    {
     "name": "stdout",
     "output_type": "stream",
     "text": [
      "{1, 2, 3, 4}\n"
     ]
    }
   ],
   "source": [
    "a = [1,2,3,4,3,1]\n",
    "b = set(a)\n",
    "print(b)"
   ]
  },
  {
   "cell_type": "code",
   "execution_count": 30,
   "metadata": {},
   "outputs": [
    {
     "name": "stdout",
     "output_type": "stream",
     "text": [
      "{1, 2, 3, 4}\n"
     ]
    }
   ],
   "source": [
    "a = (1,2,3,4,1,2)\n",
    "b = set(a)\n",
    "print(b)"
   ]
  },
  {
   "cell_type": "code",
   "execution_count": 31,
   "metadata": {},
   "outputs": [
    {
     "name": "stdout",
     "output_type": "stream",
     "text": [
      "{3, 5, 7, 9, 11}\n"
     ]
    }
   ],
   "source": [
    "a = set([i*2+3 for i in range(0,5)])\n",
    "print(a)"
   ]
  },
  {
   "cell_type": "code",
   "execution_count": 32,
   "metadata": {},
   "outputs": [
    {
     "name": "stdout",
     "output_type": "stream",
     "text": [
      "5\n",
      "5\n",
      "1\n",
      "15\n"
     ]
    }
   ],
   "source": [
    "a = {1,2,3,4,5}\n",
    "print(len(a))\n",
    "print(max(a))\n",
    "print(min(a))\n",
    "print(sum(a))"
   ]
  },
  {
   "cell_type": "code",
   "execution_count": 34,
   "metadata": {},
   "outputs": [
    {
     "name": "stdout",
     "output_type": "stream",
     "text": [
      "{1, 2, 3, 4}\n",
      "{1, 2, 3, 4, 6}\n"
     ]
    }
   ],
   "source": [
    "a = {1,2,3,4}\n",
    "print(a)\n",
    "a.add(2)\n",
    "a.add(6)\n",
    "print(a)"
   ]
  },
  {
   "cell_type": "code",
   "execution_count": 35,
   "metadata": {},
   "outputs": [
    {
     "name": "stdout",
     "output_type": "stream",
     "text": [
      "{1, 2, 3, 4}\n"
     ]
    },
    {
     "ename": "KeyError",
     "evalue": "6",
     "output_type": "error",
     "traceback": [
      "\u001b[1;31m---------------------------------------------------------------------------\u001b[0m",
      "\u001b[1;31mKeyError\u001b[0m                                  Traceback (most recent call last)",
      "\u001b[1;32m<ipython-input-35-d7cab806852b>\u001b[0m in \u001b[0;36m<module>\u001b[1;34m\u001b[0m\n\u001b[0;32m      2\u001b[0m \u001b[0mprint\u001b[0m\u001b[1;33m(\u001b[0m\u001b[0ma\u001b[0m\u001b[1;33m)\u001b[0m\u001b[1;33m\u001b[0m\u001b[1;33m\u001b[0m\u001b[0m\n\u001b[0;32m      3\u001b[0m \u001b[0ma\u001b[0m\u001b[1;33m.\u001b[0m\u001b[0mremove\u001b[0m\u001b[1;33m(\u001b[0m\u001b[1;36m2\u001b[0m\u001b[1;33m)\u001b[0m\u001b[1;33m\u001b[0m\u001b[1;33m\u001b[0m\u001b[0m\n\u001b[1;32m----> 4\u001b[1;33m \u001b[0ma\u001b[0m\u001b[1;33m.\u001b[0m\u001b[0mremove\u001b[0m\u001b[1;33m(\u001b[0m\u001b[1;36m6\u001b[0m\u001b[1;33m)\u001b[0m\u001b[1;33m\u001b[0m\u001b[1;33m\u001b[0m\u001b[0m\n\u001b[0m\u001b[0;32m      5\u001b[0m \u001b[0mprint\u001b[0m\u001b[1;33m(\u001b[0m\u001b[0ma\u001b[0m\u001b[1;33m)\u001b[0m\u001b[1;33m\u001b[0m\u001b[1;33m\u001b[0m\u001b[0m\n",
      "\u001b[1;31mKeyError\u001b[0m: 6"
     ]
    }
   ],
   "source": [
    "a = {1,2,3,4}\n",
    "print(a)\n",
    "a.remove(2)\n",
    "a.remove(6)\n",
    "print(a)"
   ]
  },
  {
   "cell_type": "code",
   "execution_count": 36,
   "metadata": {},
   "outputs": [
    {
     "name": "stdout",
     "output_type": "stream",
     "text": [
      "{1, 2, 3, 4}\n",
      "{1, 3, 4}\n"
     ]
    }
   ],
   "source": [
    "a = {1,2,3,4}\n",
    "print(a)\n",
    "a.discard(2)\n",
    "a.discard(6)\n",
    "print(a)"
   ]
  },
  {
   "cell_type": "code",
   "execution_count": 38,
   "metadata": {},
   "outputs": [
    {
     "name": "stdout",
     "output_type": "stream",
     "text": [
      "{1, 2, 3, 4, 6}\n"
     ]
    }
   ],
   "source": [
    "a = {1,2,3,4}\n",
    "a.update([2,6])\n",
    "print(a)"
   ]
  },
  {
   "cell_type": "code",
   "execution_count": 39,
   "metadata": {},
   "outputs": [
    {
     "name": "stdout",
     "output_type": "stream",
     "text": [
      "set()\n"
     ]
    }
   ],
   "source": [
    "a = {1,2,3,4}\n",
    "a.clear()\n",
    "print(a)"
   ]
  },
  {
   "cell_type": "code",
   "execution_count": 40,
   "metadata": {},
   "outputs": [
    {
     "name": "stdout",
     "output_type": "stream",
     "text": [
      "True\n",
      "True\n"
     ]
    }
   ],
   "source": [
    "a = {1,2,3,4}\n",
    "print(1 in a)\n",
    "print(6 not in a)"
   ]
  },
  {
   "cell_type": "code",
   "execution_count": 41,
   "metadata": {},
   "outputs": [
    {
     "name": "stdout",
     "output_type": "stream",
     "text": [
      "1 2 3 4 "
     ]
    }
   ],
   "source": [
    "a = {1,2,3,4}\n",
    "for i in a:\n",
    "    print(i,end=\" \")"
   ]
  },
  {
   "cell_type": "code",
   "execution_count": 44,
   "metadata": {},
   "outputs": [
    {
     "name": "stdout",
     "output_type": "stream",
     "text": [
      "{1, 2, 3, 4, 5, 6}\n",
      "{1, 2, 3, 4, 5, 6}\n"
     ]
    }
   ],
   "source": [
    "a = {1,2,3,4}\n",
    "b = {3,4,5,6}\n",
    "c = a.union(b)\n",
    "print(c)\n",
    "d = a | b\n",
    "print(d)"
   ]
  },
  {
   "cell_type": "code",
   "execution_count": 45,
   "metadata": {},
   "outputs": [
    {
     "name": "stdout",
     "output_type": "stream",
     "text": [
      "{3, 4}\n",
      "{3, 4}\n"
     ]
    }
   ],
   "source": [
    "a = {1,2,3,4}\n",
    "b = {3,4,5,6}\n",
    "c = a.intersection(b)\n",
    "print(c)\n",
    "d = a & b\n",
    "print(d)"
   ]
  },
  {
   "cell_type": "code",
   "execution_count": 49,
   "metadata": {},
   "outputs": [
    {
     "name": "stdout",
     "output_type": "stream",
     "text": [
      "{1, 2}\n",
      "{1, 2}\n",
      "{5, 6}\n",
      "{5, 6}\n"
     ]
    }
   ],
   "source": [
    "a = {1,2,3,4}\n",
    "b = {3,4,5,6}\n",
    "c = a.difference(b)\n",
    "print(c)\n",
    "c = a - b\n",
    "print(c)\n",
    "c = b.difference(a)\n",
    "print(c)\n",
    "c = b - a\n",
    "print(c)"
   ]
  },
  {
   "cell_type": "code",
   "execution_count": 50,
   "metadata": {},
   "outputs": [
    {
     "name": "stdout",
     "output_type": "stream",
     "text": [
      "{1, 2, 5, 6}\n"
     ]
    }
   ],
   "source": [
    "a = {1,2,3,4}\n",
    "b = {3,4,5,6}\n",
    "c = a ^ b\n",
    "print(c)"
   ]
  },
  {
   "cell_type": "markdown",
   "metadata": {},
   "source": [
    "**Dictionary**"
   ]
  },
  {
   "cell_type": "code",
   "execution_count": 1,
   "metadata": {},
   "outputs": [
    {
     "name": "stdout",
     "output_type": "stream",
     "text": [
      "{} <class 'dict'>\n"
     ]
    }
   ],
   "source": [
    "a = {}\n",
    "print(a,type(a))"
   ]
  },
  {
   "cell_type": "code",
   "execution_count": 2,
   "metadata": {},
   "outputs": [
    {
     "name": "stdout",
     "output_type": "stream",
     "text": [
      "{'Akshay': 25000, 'Sumit': 30000, 'Vikas': 35000}\n"
     ]
    }
   ],
   "source": [
    "a = {'Akshay':25000,'Sumit':30000,'Vikas':35000}\n",
    "print(a)"
   ]
  },
  {
   "cell_type": "code",
   "execution_count": 5,
   "metadata": {},
   "outputs": [
    {
     "name": "stdout",
     "output_type": "stream",
     "text": [
      "30000\n"
     ]
    }
   ],
   "source": [
    "a = {'Akshay':25000,'Sumit':30000,'Vikas':35000}\n",
    "print(a['Sumit'])"
   ]
  },
  {
   "cell_type": "code",
   "execution_count": 7,
   "metadata": {},
   "outputs": [
    {
     "name": "stdout",
     "output_type": "stream",
     "text": [
      "{'Akshay': 25000, 'Sumit': 30000}\n",
      "{'Akshay': 25000, 'Sumit': 30000, 'Vikas': 35000}\n"
     ]
    }
   ],
   "source": [
    "a = {'Akshay':25000,'Sumit':30000}\n",
    "print(a)\n",
    "a['Vikas'] = 35000\n",
    "print(a)"
   ]
  },
  {
   "cell_type": "code",
   "execution_count": 8,
   "metadata": {},
   "outputs": [
    {
     "name": "stdout",
     "output_type": "stream",
     "text": [
      "{'Akshay': 25000, 'Sumit': 30000, 'Vikas': 35000}\n",
      "{'Akshay': 25000, 'Sumit': 30000}\n"
     ]
    }
   ],
   "source": [
    "a = {'Akshay':25000,'Sumit':30000,'Vikas':35000}\n",
    "print(a)\n",
    "del a['Vikas']\n",
    "print(a)"
   ]
  },
  {
   "cell_type": "code",
   "execution_count": 9,
   "metadata": {},
   "outputs": [
    {
     "name": "stdout",
     "output_type": "stream",
     "text": [
      "3\n"
     ]
    }
   ],
   "source": [
    "a = {'Akshay':25000,'Sumit':30000,'Vikas':35000}\n",
    "print(len(a))"
   ]
  },
  {
   "cell_type": "code",
   "execution_count": 10,
   "metadata": {},
   "outputs": [
    {
     "name": "stdout",
     "output_type": "stream",
     "text": [
      "Akshay\n",
      "Sumit\n",
      "Vikas\n"
     ]
    }
   ],
   "source": [
    "a = {'Akshay':25000,'Sumit':30000,'Vikas':35000}\n",
    "for k in a:\n",
    "    print(k)"
   ]
  },
  {
   "cell_type": "code",
   "execution_count": 11,
   "metadata": {},
   "outputs": [
    {
     "name": "stdout",
     "output_type": "stream",
     "text": [
      "Akshay 25000\n",
      "Sumit 30000\n",
      "Vikas 35000\n"
     ]
    }
   ],
   "source": [
    "a = {'Akshay':25000,'Sumit':30000,'Vikas':35000}\n",
    "for k in a:\n",
    "    print(k,a[k])"
   ]
  },
  {
   "cell_type": "code",
   "execution_count": 13,
   "metadata": {},
   "outputs": [
    {
     "name": "stdout",
     "output_type": "stream",
     "text": [
      "True\n",
      "True\n"
     ]
    }
   ],
   "source": [
    "a = {'Akshay':25000,'Sumit':30000,'Vikas':35000}\n",
    "print('Akshay' in a)\n",
    "print('Java' not in a)"
   ]
  },
  {
   "cell_type": "code",
   "execution_count": 15,
   "metadata": {},
   "outputs": [
    {
     "name": "stdout",
     "output_type": "stream",
     "text": [
      "dict_keys(['Akshay', 'Sumit', 'Vikas'])\n",
      "('Akshay', 'Sumit', 'Vikas')\n"
     ]
    }
   ],
   "source": [
    "a = {'Akshay':25000,'Sumit':30000,'Vikas':35000}\n",
    "print(a.keys())\n",
    "b = tuple(a.keys())\n",
    "print(b)"
   ]
  },
  {
   "cell_type": "code",
   "execution_count": 16,
   "metadata": {},
   "outputs": [
    {
     "name": "stdout",
     "output_type": "stream",
     "text": [
      "dict_values([25000, 30000, 35000])\n",
      "[25000, 30000, 35000]\n"
     ]
    }
   ],
   "source": [
    "a = {'Akshay':25000,'Sumit':30000,'Vikas':35000}\n",
    "print(a.values())\n",
    "b = list(a.values())\n",
    "print(b)"
   ]
  },
  {
   "cell_type": "code",
   "execution_count": 18,
   "metadata": {},
   "outputs": [
    {
     "name": "stdout",
     "output_type": "stream",
     "text": [
      "dict_items([('Akshay', 25000), ('Sumit', 30000), ('Vikas', 35000)])\n",
      "[('Akshay', 25000), ('Sumit', 30000), ('Vikas', 35000)]\n"
     ]
    }
   ],
   "source": [
    "a = {'Akshay':25000,'Sumit':30000,'Vikas':35000}\n",
    "print(a.items())\n",
    "b = list(a.items())\n",
    "print(b)"
   ]
  },
  {
   "cell_type": "code",
   "execution_count": 19,
   "metadata": {},
   "outputs": [
    {
     "name": "stdout",
     "output_type": "stream",
     "text": [
      "Akshay => 25000\n",
      "Sumit => 30000\n",
      "Vikas => 35000\n"
     ]
    }
   ],
   "source": [
    "a = {'Akshay':25000,'Sumit':30000,'Vikas':35000}\n",
    "for k,v in a.items():\n",
    "    print(k,\"=>\",v)"
   ]
  },
  {
   "cell_type": "code",
   "execution_count": 25,
   "metadata": {},
   "outputs": [
    {
     "name": "stdout",
     "output_type": "stream",
     "text": [
      "30000\n",
      "25000\n",
      "None\n",
      "NA\n"
     ]
    }
   ],
   "source": [
    "a = {'Akshay':25000,'Sumit':30000,'Vikas':35000}\n",
    "print(a['Sumit'])\n",
    "#print(a['Java'])\n",
    "print(a.get('Akshay'))\n",
    "print(a.get('Java'))\n",
    "print(a.get('Python','NA'))"
   ]
  },
  {
   "cell_type": "code",
   "execution_count": 27,
   "metadata": {},
   "outputs": [
    {
     "name": "stdout",
     "output_type": "stream",
     "text": [
      "35000\n",
      "{'Akshay': 25000, 'Sumit': 30000}\n"
     ]
    }
   ],
   "source": [
    "a = {'Akshay':25000,'Sumit':30000,'Vikas':35000}\n",
    "print(a.pop('Vikas'))\n",
    "print(a)"
   ]
  },
  {
   "cell_type": "code",
   "execution_count": 28,
   "metadata": {},
   "outputs": [
    {
     "name": "stdout",
     "output_type": "stream",
     "text": [
      "('Vikas', 35000)\n",
      "{'Akshay': 25000, 'Sumit': 30000}\n"
     ]
    }
   ],
   "source": [
    "a = {'Akshay':25000,'Sumit':30000,'Vikas':35000}\n",
    "print(a.popitem())\n",
    "print(a)"
   ]
  },
  {
   "cell_type": "code",
   "execution_count": 31,
   "metadata": {},
   "outputs": [
    {
     "name": "stdout",
     "output_type": "stream",
     "text": [
      "{'Akshay': 25000, 'Sumit': 30000, 'Vikas': 35000} 2142325623184\n",
      "{'Akshay': 25000, 'Sumit': 30000, 'Vikas': 35000} 2142325623184\n",
      "{'Akshay': 25000, 'Sumit': 30000, 'Vikas': 35000} 2142325565048\n"
     ]
    }
   ],
   "source": [
    "a = {'Akshay':25000,'Sumit':30000,'Vikas':35000}\n",
    "print(a,id(a))\n",
    "b = a\n",
    "print(b,id(b))\n",
    "c = a.copy()\n",
    "print(c,id(c))"
   ]
  },
  {
   "cell_type": "code",
   "execution_count": 32,
   "metadata": {},
   "outputs": [
    {
     "name": "stdout",
     "output_type": "stream",
     "text": [
      "{}\n"
     ]
    }
   ],
   "source": [
    "a = {'Akshay':25000,'Sumit':30000,'Vikas':35000}\n",
    "a.clear()\n",
    "print(a)"
   ]
  },
  {
   "cell_type": "markdown",
   "metadata": {},
   "source": [
    "**File I/O**"
   ]
  },
  {
   "cell_type": "code",
   "execution_count": 3,
   "metadata": {},
   "outputs": [],
   "source": [
    "f = open(\"demo.txt\",\"w\")\n",
    "f.write(\"Hello\")\n",
    "f.write(\" World\\n\")\n",
    "print(\"Hello\",file = f)\n",
    "print(\"World\",file = f)\n",
    "f.close()"
   ]
  },
  {
   "cell_type": "code",
   "execution_count": 4,
   "metadata": {},
   "outputs": [
    {
     "name": "stdout",
     "output_type": "stream",
     "text": [
      "Hello World\n",
      "Hello\n",
      "World\n",
      "\n"
     ]
    }
   ],
   "source": [
    "f = open(\"demo.txt\",\"r\")\n",
    "print(f.read())\n",
    "f.close()"
   ]
  },
  {
   "cell_type": "code",
   "execution_count": 5,
   "metadata": {},
   "outputs": [
    {
     "name": "stdout",
     "output_type": "stream",
     "text": [
      "Hell\n",
      "o Worl\n"
     ]
    }
   ],
   "source": [
    "f = open(\"demo.txt\",\"r\")\n",
    "print(f.read(4))\n",
    "print(f.read(6))\n",
    "f.close()"
   ]
  },
  {
   "cell_type": "code",
   "execution_count": 6,
   "metadata": {},
   "outputs": [
    {
     "name": "stdout",
     "output_type": "stream",
     "text": [
      "['Hello World\\n', 'Hello\\n', 'World\\n']\n"
     ]
    }
   ],
   "source": [
    "f = open(\"demo.txt\",\"r\")\n",
    "print(f.readlines())\n",
    "f.close()"
   ]
  },
  {
   "cell_type": "code",
   "execution_count": 7,
   "metadata": {},
   "outputs": [
    {
     "name": "stdout",
     "output_type": "stream",
     "text": [
      "Hello World\n",
      "\n",
      "Hello\n",
      "\n"
     ]
    }
   ],
   "source": [
    "f = open(\"demo.txt\",\"r\")\n",
    "print(f.readline())\n",
    "print(f.readline())\n",
    "f.close()"
   ]
  },
  {
   "cell_type": "code",
   "execution_count": 9,
   "metadata": {},
   "outputs": [
    {
     "name": "stdout",
     "output_type": "stream",
     "text": [
      "Hello World\n",
      "Hello\n",
      "World\n"
     ]
    }
   ],
   "source": [
    "f = open(\"demo.txt\",\"r\")\n",
    "for line in f:\n",
    "    print(line,end=\"\")\n",
    "f.close()"
   ]
  },
  {
   "cell_type": "code",
   "execution_count": 10,
   "metadata": {},
   "outputs": [],
   "source": [
    "f = open(\"demo.txt\",\"a\")\n",
    "f.write(\"My name is\\n\")\n",
    "print(\"Akshay Soni\",file = f)\n",
    "f.close()"
   ]
  },
  {
   "cell_type": "code",
   "execution_count": null,
   "metadata": {},
   "outputs": [],
   "source": []
  }
 ],
 "metadata": {
  "kernelspec": {
   "display_name": "Python 3",
   "language": "python",
   "name": "python3"
  },
  "language_info": {
   "codemirror_mode": {
    "name": "ipython",
    "version": 3
   },
   "file_extension": ".py",
   "mimetype": "text/x-python",
   "name": "python",
   "nbconvert_exporter": "python",
   "pygments_lexer": "ipython3",
   "version": "3.7.3"
  }
 },
 "nbformat": 4,
 "nbformat_minor": 4
}
